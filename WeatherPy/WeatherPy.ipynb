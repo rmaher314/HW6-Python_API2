{
 "cells": [
  {
   "cell_type": "markdown",
   "metadata": {},
   "source": [
    "# WeatherPy\n",
    "----\n",
    "\n",
    "#### Note\n",
    "* Instructions have been included for each segment. You do not have to follow them exactly, but they are included to help you think through the steps."
   ]
  },
  {
   "cell_type": "code",
   "execution_count": 58,
   "metadata": {
    "scrolled": true
   },
   "outputs": [],
   "source": [
    "#Dependencies\n",
    "import requests\n",
    "import json\n",
    "from api_keys import api_key\n",
    "import matplotlib.pyplot as plt\n",
    "import numpy as np\n",
    "import pandas as pd\n",
    "from pprint import pprint\n",
    "import random\n",
    "from citipy import citipy\n"
   ]
  },
  {
   "cell_type": "code",
   "execution_count": 59,
   "metadata": {},
   "outputs": [],
   "source": [
    "#Urls and API Keys\n",
    "url = \"http://api.openweathermap.org/data/2.5/weather?\"\n",
    "#query_url = f\"{url}appid={api_key}&units={units}&q=\"\n",
    "#query_url = url + \"appid=\" + api_key + \"&q={name}\"\n",
    "query_url = url + \"appid=\" + api_key + \"&q=houston\" + \"&units=imperial\""
   ]
  },
  {
   "cell_type": "code",
   "execution_count": 60,
   "metadata": {},
   "outputs": [
    {
     "name": "stdout",
     "output_type": "stream",
     "text": [
      "{'base': 'stations',\n",
      " 'clouds': {'all': 1},\n",
      " 'cod': 200,\n",
      " 'coord': {'lat': 29.76, 'lon': -95.36},\n",
      " 'dt': 1599840116,\n",
      " 'id': 4699066,\n",
      " 'main': {'feels_like': 85.12,\n",
      "          'humidity': 78,\n",
      "          'pressure': 1018,\n",
      "          'temp': 78.96,\n",
      "          'temp_max': 81,\n",
      "          'temp_min': 77},\n",
      " 'name': 'Houston',\n",
      " 'sys': {'country': 'US',\n",
      "         'id': 2006306,\n",
      "         'sunrise': 1599825862,\n",
      "         'sunset': 1599870701,\n",
      "         'type': 3},\n",
      " 'timezone': -18000,\n",
      " 'visibility': 10000,\n",
      " 'weather': [{'description': 'clear sky',\n",
      "              'icon': '01d',\n",
      "              'id': 800,\n",
      "              'main': 'Clear'}],\n",
      " 'wind': {'deg': 15, 'gust': 11.99, 'speed': 4}}\n"
     ]
    }
   ],
   "source": [
    "weather_response = requests.get(query_url)\n",
    "weather_json = weather_response.json()\n",
    "    \n",
    "#print(query_url)\n",
    "pprint(weather_json)"
   ]
  },
  {
   "cell_type": "markdown",
   "metadata": {},
   "source": [
    "## Generate Cities List"
   ]
  },
  {
   "cell_type": "code",
   "execution_count": 61,
   "metadata": {},
   "outputs": [
    {
     "name": "stdout",
     "output_type": "stream",
     "text": [
      "[(5.717182034340508, 47.978090063761286), (7.58534105995777, 59.375520174063354), (19.03280011152651, 5.174544965743106), (6.7050880253745335, 8.988764714764134), (42.519375139866696, 7.657235521604612), (16.166231495671564, 0.708430753713748), (47.50014239736558, 65.02467624468014), (51.02290179177605, 28.724120948257703), (42.76896836695832, 65.70249876053192), (3.6343414648157504, 18.378327425207253)]\n"
     ]
    }
   ],
   "source": [
    "#generating coordinates\n",
    "coordinates = [(random.random()*70.0, random.random()*70.0) for _ in range(10)]\n",
    "#coord_df = pd.DataFrame(coordinates)\n",
    "#coordinates_df= coord_df.rename(columns={\"0\":\"Latitude\", \"1\":\"Longitude\"})\n",
    "#coordinates_df\n",
    "print(coordinates)"
   ]
  },
  {
   "cell_type": "code",
   "execution_count": 74,
   "metadata": {},
   "outputs": [
    {
     "name": "stdout",
     "output_type": "stream",
     "text": [
      "['hobyo', 'bandarbeyla', 'arlit', 'otukpo', 'antibes', 'gao', 'dzhusaly', 'chopovychi', 'shieli', 'mongoumba']\n"
     ]
    }
   ],
   "source": [
    "cities = []\n",
    "for coordinate_pair in coordinates:\n",
    "    lat, lon = coordinate_pair\n",
    "    cities.append(citipy.nearest_city(lat, lon).city_name)\n",
    "print(cities)\n"
   ]
  },
  {
   "cell_type": "code",
   "execution_count": 71,
   "metadata": {},
   "outputs": [
    {
     "name": "stdout",
     "output_type": "stream",
     "text": [
      "1\n"
     ]
    }
   ],
   "source": [
    "#All individual variables are reading the json response ap\n",
    "#pressure = []\n",
    "#lon = []\n",
    "#lat = []\n",
    "#cloud = []\n",
    "#wind = []\n",
    "#temp = []\n",
    "\n",
    "#for city in cities:\n",
    "    #response = requests.get(query_url + city).json()\n",
    "response = weather_json\n",
    "temp = response['main']['temp']\n",
    "humidity = response['main']['humidity']\n",
    "cloud = response['clouds']['all']\n",
    "wind = response['wind']['speed']\n",
    "print(cloud)\n",
    "    #country_code = city.country_code\n",
    "    #name = city.city_name\n",
    "    #lon = lon.append(response['coord']['lon'])\n",
    "    #lat = lat.append(response['coord']['lat'])\n",
    "    #humidity = pressure.append(response['main']['humidity'])\n",
    "    #cloud = cloudiness.append(response['clouds']['all'])\n",
    "    \n",
    "    #print(f\"The country code of {name} is '{country_code}'.\")"
   ]
  },
  {
   "cell_type": "code",
   "execution_count": 106,
   "metadata": {},
   "outputs": [
    {
     "name": "stdout",
     "output_type": "stream",
     "text": [
      "0\n",
      "1\n",
      "2\n",
      "3\n",
      "4\n",
      "5\n",
      "6\n",
      "7\n",
      "8\n",
      "['hobyo', 'bandarbeyla', 'arlit', 'otukpo', 'antibes', 'gao', 'chopovychi', 'shieli', 'mongoumba']\n",
      "[5.35, 9.49, 18.74, 7.19, 43.56, 16.64, 50.83, 44.17, 3.64]\n"
     ]
    }
   ],
   "source": [
    "url = \"http://api.openweathermap.org/data/2.5/weather?\"\n",
    "query_url = url + \"appid=\" + api_key +  \"&units=imperial\" +\"&q=\"\n",
    "lon = []\n",
    "lat = []\n",
    "cloud = []\n",
    "wind = []\n",
    "temp = []\n",
    "humidity =[]\n",
    "max_temp = []\n",
    "country = []\n",
    "date = []\n",
    "\n",
    "count_sets = 1\n",
    "cities_count = 0\n",
    "for city in cities:\n",
    "    #country_code = city.country_code\n",
    "   \n",
    "        \n",
    "    #count_sets = (count_sets(cities_counts = 50)+1)\n",
    "    request_url = query_url + city\n",
    "    print(cities_count)\n",
    "   \n",
    "    try:\n",
    "        response = requests.get(request_url).json()\n",
    "        if cities_count <= 50:\n",
    "            cities_count = cities_count + 1\n",
    "        else: \n",
    "            cities_count = 0\n",
    "            count_sets = count_sets + 1\n",
    "    #print(f\"The country code of {name} is '{country_code}'.\")\n",
    "    #weather_response = requests.get(query_url)\n",
    "    #weather_json = weather_response.json()\n",
    "        lon.append(response['coord']['lon'])\n",
    "        lat.append(response['coord']['lat'])\n",
    "        humidity.append(response['main']['humidity'])\n",
    "        cloud.append(response['clouds']['all'])\n",
    "        wind.append(response['wind']['speed'])\n",
    "        max_temp.append(response['main']['temp_max'])\n",
    "        country.append(response['sys']['country'])\n",
    "        date.append(response['dt'])\n",
    "    except KeyError:\n",
    "        print(\"City not found. Skipping...\")  \n",
    "        #print(\"removing \" + {city.name})\n",
    "        cities.remove(city)\n",
    "print(cities)\n",
    "print(lat)\n",
    "#ToDos - Fix the F String to print out the desired results. \n",
    "#print(f\"Processing Record\" + (cities_count) + \"of set\" + (count_sets))"
   ]
  },
  {
   "cell_type": "markdown",
   "metadata": {},
   "source": [
    "### Perform API Calls\n",
    "* Perform a weather check on each city using a series of successive API calls.\n",
    "* Include a print log of each city as it'sbeing processed (with the city number and city name).\n"
   ]
  },
  {
   "cell_type": "code",
   "execution_count": null,
   "metadata": {
    "scrolled": true
   },
   "outputs": [],
   "source": []
  },
  {
   "cell_type": "markdown",
   "metadata": {},
   "source": [
    "### Convert Raw Data to DataFrame\n",
    "* Export the city data into a .csv.\n",
    "* Display the DataFrame"
   ]
  },
  {
   "cell_type": "code",
   "execution_count": 108,
   "metadata": {},
   "outputs": [
    {
     "data": {
      "text/html": [
       "<div>\n",
       "<style scoped>\n",
       "    .dataframe tbody tr th:only-of-type {\n",
       "        vertical-align: middle;\n",
       "    }\n",
       "\n",
       "    .dataframe tbody tr th {\n",
       "        vertical-align: top;\n",
       "    }\n",
       "\n",
       "    .dataframe thead th {\n",
       "        text-align: right;\n",
       "    }\n",
       "</style>\n",
       "<table border=\"1\" class=\"dataframe\">\n",
       "  <thead>\n",
       "    <tr style=\"text-align: right;\">\n",
       "      <th></th>\n",
       "      <th>City</th>\n",
       "      <th>Lat</th>\n",
       "      <th>Lng</th>\n",
       "      <th>Max Temp</th>\n",
       "      <th>Humidity</th>\n",
       "      <th>Cloudiness</th>\n",
       "      <th>Wind Speed</th>\n",
       "      <th>Country</th>\n",
       "      <th>Date</th>\n",
       "    </tr>\n",
       "  </thead>\n",
       "  <tbody>\n",
       "    <tr>\n",
       "      <th>0</th>\n",
       "      <td>hobyo</td>\n",
       "      <td>5.35</td>\n",
       "      <td>48.53</td>\n",
       "      <td>81.93</td>\n",
       "      <td>69</td>\n",
       "      <td>91</td>\n",
       "      <td>30.62</td>\n",
       "      <td>SO</td>\n",
       "      <td>1599915695</td>\n",
       "    </tr>\n",
       "    <tr>\n",
       "      <th>1</th>\n",
       "      <td>bandarbeyla</td>\n",
       "      <td>9.49</td>\n",
       "      <td>50.81</td>\n",
       "      <td>85.44</td>\n",
       "      <td>55</td>\n",
       "      <td>71</td>\n",
       "      <td>31.34</td>\n",
       "      <td>SO</td>\n",
       "      <td>1599915696</td>\n",
       "    </tr>\n",
       "    <tr>\n",
       "      <th>2</th>\n",
       "      <td>arlit</td>\n",
       "      <td>18.74</td>\n",
       "      <td>7.39</td>\n",
       "      <td>107.35</td>\n",
       "      <td>8</td>\n",
       "      <td>30</td>\n",
       "      <td>15.37</td>\n",
       "      <td>NE</td>\n",
       "      <td>1599915696</td>\n",
       "    </tr>\n",
       "    <tr>\n",
       "      <th>3</th>\n",
       "      <td>otukpo</td>\n",
       "      <td>7.19</td>\n",
       "      <td>8.13</td>\n",
       "      <td>85.33</td>\n",
       "      <td>77</td>\n",
       "      <td>54</td>\n",
       "      <td>0.94</td>\n",
       "      <td>NG</td>\n",
       "      <td>1599915697</td>\n",
       "    </tr>\n",
       "    <tr>\n",
       "      <th>4</th>\n",
       "      <td>antibes</td>\n",
       "      <td>43.56</td>\n",
       "      <td>7.13</td>\n",
       "      <td>84.20</td>\n",
       "      <td>69</td>\n",
       "      <td>40</td>\n",
       "      <td>4.70</td>\n",
       "      <td>FR</td>\n",
       "      <td>1599915697</td>\n",
       "    </tr>\n",
       "    <tr>\n",
       "      <th>5</th>\n",
       "      <td>gao</td>\n",
       "      <td>16.64</td>\n",
       "      <td>1.64</td>\n",
       "      <td>102.18</td>\n",
       "      <td>18</td>\n",
       "      <td>54</td>\n",
       "      <td>4.47</td>\n",
       "      <td>ML</td>\n",
       "      <td>1599915697</td>\n",
       "    </tr>\n",
       "    <tr>\n",
       "      <th>6</th>\n",
       "      <td>chopovychi</td>\n",
       "      <td>50.83</td>\n",
       "      <td>28.95</td>\n",
       "      <td>71.80</td>\n",
       "      <td>40</td>\n",
       "      <td>0</td>\n",
       "      <td>5.30</td>\n",
       "      <td>UA</td>\n",
       "      <td>1599915698</td>\n",
       "    </tr>\n",
       "    <tr>\n",
       "      <th>7</th>\n",
       "      <td>shieli</td>\n",
       "      <td>44.17</td>\n",
       "      <td>66.75</td>\n",
       "      <td>76.86</td>\n",
       "      <td>25</td>\n",
       "      <td>0</td>\n",
       "      <td>5.17</td>\n",
       "      <td>KZ</td>\n",
       "      <td>1599915699</td>\n",
       "    </tr>\n",
       "    <tr>\n",
       "      <th>8</th>\n",
       "      <td>mongoumba</td>\n",
       "      <td>3.64</td>\n",
       "      <td>18.59</td>\n",
       "      <td>82.40</td>\n",
       "      <td>80</td>\n",
       "      <td>47</td>\n",
       "      <td>2.48</td>\n",
       "      <td>CF</td>\n",
       "      <td>1599915699</td>\n",
       "    </tr>\n",
       "  </tbody>\n",
       "</table>\n",
       "</div>"
      ],
      "text/plain": [
       "          City    Lat    Lng  Max Temp  Humidity  Cloudiness  Wind Speed  \\\n",
       "0        hobyo   5.35  48.53     81.93        69          91       30.62   \n",
       "1  bandarbeyla   9.49  50.81     85.44        55          71       31.34   \n",
       "2        arlit  18.74   7.39    107.35         8          30       15.37   \n",
       "3       otukpo   7.19   8.13     85.33        77          54        0.94   \n",
       "4      antibes  43.56   7.13     84.20        69          40        4.70   \n",
       "5          gao  16.64   1.64    102.18        18          54        4.47   \n",
       "6   chopovychi  50.83  28.95     71.80        40           0        5.30   \n",
       "7       shieli  44.17  66.75     76.86        25           0        5.17   \n",
       "8    mongoumba   3.64  18.59     82.40        80          47        2.48   \n",
       "\n",
       "  Country        Date  \n",
       "0      SO  1599915695  \n",
       "1      SO  1599915696  \n",
       "2      NE  1599915696  \n",
       "3      NG  1599915697  \n",
       "4      FR  1599915697  \n",
       "5      ML  1599915697  \n",
       "6      UA  1599915698  \n",
       "7      KZ  1599915699  \n",
       "8      CF  1599915699  "
      ]
     },
     "execution_count": 108,
     "metadata": {},
     "output_type": "execute_result"
    }
   ],
   "source": [
    "weather_data = {\"City\": cities, \"Lat\": lat, \"Lng\": lon, \"Max Temp\": max_temp, \"Humidity\": humidity, \"Cloudiness\": cloud, \"Wind Speed\": wind, \"Country\": country, \"Date\": date}\n",
    "weather_data = pd.DataFrame(weather_data)\n",
    "weather_data"
   ]
  },
  {
   "cell_type": "code",
   "execution_count": null,
   "metadata": {},
   "outputs": [],
   "source": []
  },
  {
   "cell_type": "markdown",
   "metadata": {},
   "source": [
    "## Inspect the data and remove the cities where the humidity > 100%.\n",
    "----\n",
    "Skip this step if there are no cities that have humidity > 100%. "
   ]
  },
  {
   "cell_type": "code",
   "execution_count": null,
   "metadata": {},
   "outputs": [],
   "source": []
  },
  {
   "cell_type": "code",
   "execution_count": 4,
   "metadata": {},
   "outputs": [],
   "source": [
    "#  Get the indices of cities that have humidity over 100%.\n"
   ]
  },
  {
   "cell_type": "code",
   "execution_count": 5,
   "metadata": {},
   "outputs": [],
   "source": [
    "# Make a new DataFrame equal to the city data to drop all humidity outliers by index.\n",
    "# Passing \"inplace=False\" will make a copy of the city_data DataFrame, which we call \"clean_city_data\".\n"
   ]
  },
  {
   "cell_type": "code",
   "execution_count": null,
   "metadata": {},
   "outputs": [],
   "source": [
    "\n"
   ]
  },
  {
   "cell_type": "markdown",
   "metadata": {},
   "source": [
    "## Plotting the Data\n",
    "* Use proper labeling of the plots using plot titles (including date of analysis) and axes labels.\n",
    "* Save the plotted figures as .pngs."
   ]
  },
  {
   "cell_type": "markdown",
   "metadata": {},
   "source": [
    "## Latitude vs. Temperature Plot"
   ]
  },
  {
   "cell_type": "code",
   "execution_count": null,
   "metadata": {
    "scrolled": true
   },
   "outputs": [],
   "source": []
  },
  {
   "cell_type": "markdown",
   "metadata": {},
   "source": [
    "## Latitude vs. Humidity Plot"
   ]
  },
  {
   "cell_type": "code",
   "execution_count": null,
   "metadata": {},
   "outputs": [],
   "source": []
  },
  {
   "cell_type": "markdown",
   "metadata": {},
   "source": [
    "## Latitude vs. Cloudiness Plot"
   ]
  },
  {
   "cell_type": "code",
   "execution_count": null,
   "metadata": {},
   "outputs": [],
   "source": []
  },
  {
   "cell_type": "markdown",
   "metadata": {},
   "source": [
    "## Latitude vs. Wind Speed Plot"
   ]
  },
  {
   "cell_type": "code",
   "execution_count": null,
   "metadata": {},
   "outputs": [],
   "source": []
  },
  {
   "cell_type": "markdown",
   "metadata": {},
   "source": [
    "## Linear Regression"
   ]
  },
  {
   "cell_type": "code",
   "execution_count": null,
   "metadata": {},
   "outputs": [],
   "source": []
  },
  {
   "cell_type": "markdown",
   "metadata": {},
   "source": [
    "####  Northern Hemisphere - Max Temp vs. Latitude Linear Regression"
   ]
  },
  {
   "cell_type": "code",
   "execution_count": null,
   "metadata": {},
   "outputs": [],
   "source": []
  },
  {
   "cell_type": "markdown",
   "metadata": {},
   "source": [
    "####  Southern Hemisphere - Max Temp vs. Latitude Linear Regression"
   ]
  },
  {
   "cell_type": "code",
   "execution_count": null,
   "metadata": {},
   "outputs": [],
   "source": []
  },
  {
   "cell_type": "markdown",
   "metadata": {},
   "source": [
    "####  Northern Hemisphere - Humidity (%) vs. Latitude Linear Regression"
   ]
  },
  {
   "cell_type": "code",
   "execution_count": null,
   "metadata": {},
   "outputs": [],
   "source": []
  },
  {
   "cell_type": "markdown",
   "metadata": {},
   "source": [
    "####  Southern Hemisphere - Humidity (%) vs. Latitude Linear Regression"
   ]
  },
  {
   "cell_type": "code",
   "execution_count": null,
   "metadata": {},
   "outputs": [],
   "source": []
  },
  {
   "cell_type": "markdown",
   "metadata": {},
   "source": [
    "####  Northern Hemisphere - Cloudiness (%) vs. Latitude Linear Regression"
   ]
  },
  {
   "cell_type": "code",
   "execution_count": null,
   "metadata": {},
   "outputs": [],
   "source": []
  },
  {
   "cell_type": "markdown",
   "metadata": {},
   "source": [
    "####  Southern Hemisphere - Cloudiness (%) vs. Latitude Linear Regression"
   ]
  },
  {
   "cell_type": "code",
   "execution_count": null,
   "metadata": {},
   "outputs": [],
   "source": []
  },
  {
   "cell_type": "markdown",
   "metadata": {},
   "source": [
    "####  Northern Hemisphere - Wind Speed (mph) vs. Latitude Linear Regression"
   ]
  },
  {
   "cell_type": "code",
   "execution_count": null,
   "metadata": {},
   "outputs": [],
   "source": []
  },
  {
   "cell_type": "markdown",
   "metadata": {},
   "source": [
    "####  Southern Hemisphere - Wind Speed (mph) vs. Latitude Linear Regression"
   ]
  },
  {
   "cell_type": "code",
   "execution_count": null,
   "metadata": {},
   "outputs": [],
   "source": []
  },
  {
   "cell_type": "code",
   "execution_count": null,
   "metadata": {},
   "outputs": [],
   "source": []
  }
 ],
 "metadata": {
  "anaconda-cloud": {},
  "kernel_info": {
   "name": "python3"
  },
  "kernelspec": {
   "display_name": "Python 3",
   "language": "python",
   "name": "python3"
  },
  "language_info": {
   "codemirror_mode": {
    "name": "ipython",
    "version": 3
   },
   "file_extension": ".py",
   "mimetype": "text/x-python",
   "name": "python",
   "nbconvert_exporter": "python",
   "pygments_lexer": "ipython3",
   "version": "3.6.10"
  },
  "latex_envs": {
   "LaTeX_envs_menu_present": true,
   "autoclose": false,
   "autocomplete": true,
   "bibliofile": "biblio.bib",
   "cite_by": "apalike",
   "current_citInitial": 1,
   "eqLabelWithNumbers": true,
   "eqNumInitial": 1,
   "hotkeys": {
    "equation": "Ctrl-E",
    "itemize": "Ctrl-I"
   },
   "labels_anchors": false,
   "latex_user_defs": false,
   "report_style_numbering": false,
   "user_envs_cfg": false
  },
  "nteract": {
   "version": "0.12.3"
  }
 },
 "nbformat": 4,
 "nbformat_minor": 4
}
