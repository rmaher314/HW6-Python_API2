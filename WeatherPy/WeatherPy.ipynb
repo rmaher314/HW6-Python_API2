{
 "cells": [
  {
   "cell_type": "markdown",
   "metadata": {},
   "source": [
    "# WeatherPy\n",
    "----\n",
    "\n",
    "#### Note\n",
    "* Instructions have been included for each segment. You do not have to follow them exactly, but they are included to help you think through the steps."
   ]
  },
  {
   "cell_type": "code",
   "execution_count": 149,
   "metadata": {
    "scrolled": true
   },
   "outputs": [],
   "source": [
    "#Dependencies\n",
    "import requests\n",
    "import json\n",
    "from api_keys import api_key\n",
    "import matplotlib.pyplot as plt\n",
    "import numpy as np\n",
    "import pandas as pd\n",
    "from pprint import pprint\n",
    "import random\n",
    "from citipy import citipy\n",
    "import scipy.stats as st\n",
    "\n"
   ]
  },
  {
   "cell_type": "code",
   "execution_count": 150,
   "metadata": {},
   "outputs": [],
   "source": [
    "#Urls and API Keys\n",
    "url = \"http://api.openweathermap.org/data/2.5/weather?\"\n",
    "#query_url = f\"{url}appid={api_key}&units={units}&q=\"\n",
    "#query_url = url + \"appid=\" + api_key + \"&q={name}\"\n",
    "query_url = url + \"appid=\" + api_key + \"&q=houston\" + \"&units=imperial\""
   ]
  },
  {
   "cell_type": "code",
   "execution_count": 151,
   "metadata": {},
   "outputs": [
    {
     "name": "stdout",
     "output_type": "stream",
     "text": [
      "{'base': 'stations',\n",
      " 'clouds': {'all': 40},\n",
      " 'cod': 200,\n",
      " 'coord': {'lat': 29.76, 'lon': -95.36},\n",
      " 'dt': 1599937539,\n",
      " 'id': 4699066,\n",
      " 'main': {'feels_like': 92.48,\n",
      "          'humidity': 52,\n",
      "          'pressure': 1013,\n",
      "          'temp': 91.38,\n",
      "          'temp_max': 93.99,\n",
      "          'temp_min': 90},\n",
      " 'name': 'Houston',\n",
      " 'sys': {'country': 'US',\n",
      "         'id': 4404,\n",
      "         'sunrise': 1599912293,\n",
      "         'sunset': 1599957026,\n",
      "         'type': 1},\n",
      " 'timezone': -18000,\n",
      " 'visibility': 10000,\n",
      " 'weather': [{'description': 'scattered clouds',\n",
      "              'icon': '03d',\n",
      "              'id': 802,\n",
      "              'main': 'Clouds'}],\n",
      " 'wind': {'deg': 360, 'speed': 12.75}}\n"
     ]
    }
   ],
   "source": [
    "weather_response = requests.get(query_url)\n",
    "weather_json = weather_response.json()\n",
    "    \n",
    "#print(query_url)\n",
    "pprint(weather_json)"
   ]
  },
  {
   "cell_type": "markdown",
   "metadata": {},
   "source": [
    "## Generate Cities List"
   ]
  },
  {
   "cell_type": "code",
   "execution_count": 152,
   "metadata": {},
   "outputs": [
    {
     "name": "stdout",
     "output_type": "stream",
     "text": [
      "[(66.92216251616944, 44.69056506711113), (53.71525039007707, 39.58273862297108), (0.1743829603668745, 9.706866168115786), (14.840496544761594, 6.511839161557173), (18.00248145311031, 30.30524754539465), (33.43933228604412, 16.997503870172032), (48.718475309646024, 12.80088943841933), (22.175607155159618, 49.27540921458385), (27.914371038703436, 64.75261067494147), (63.02042915860623, 64.02778672578438)]\n"
     ]
    }
   ],
   "source": [
    "#generating coordinates\n",
    "coordinates = [(random.random()*70.0, random.random()*70.0) for _ in range(10)]\n",
    "#coord_df = pd.DataFrame(coordinates)\n",
    "#coordinates_df= coord_df.rename(columns={\"0\":\"Latitude\", \"1\":\"Longitude\"})\n",
    "#coordinates_df\n",
    "print(coordinates)"
   ]
  },
  {
   "cell_type": "code",
   "execution_count": 153,
   "metadata": {},
   "outputs": [
    {
     "name": "stdout",
     "output_type": "stream",
     "text": [
      "['mezen', 'zarechnyy', 'ntoum', 'dakoro', 'marawi', 'misratah', 'plattling', 'abu samrah', 'kharan', 'igrim']\n"
     ]
    }
   ],
   "source": [
    "cities = []\n",
    "for coordinate_pair in coordinates:\n",
    "    lat, lon = coordinate_pair\n",
    "    cities.append(citipy.nearest_city(lat, lon).city_name)\n",
    "print(cities)\n"
   ]
  },
  {
   "cell_type": "code",
   "execution_count": 154,
   "metadata": {},
   "outputs": [
    {
     "name": "stdout",
     "output_type": "stream",
     "text": [
      "40\n"
     ]
    }
   ],
   "source": [
    "#All individual variables are reading the json response ap\n",
    "#pressure = []\n",
    "#lon = []\n",
    "#lat = []\n",
    "#cloud = []\n",
    "#wind = []\n",
    "#temp = []\n",
    "\n",
    "#for city in cities:\n",
    "    #response = requests.get(query_url + city).json()\n",
    "response = weather_json\n",
    "temp = response['main']['temp']\n",
    "humidity = response['main']['humidity']\n",
    "cloud = response['clouds']['all']\n",
    "wind = response['wind']['speed']\n",
    "print(cloud)\n",
    "    #country_code = city.country_code\n",
    "    #name = city.city_name\n",
    "    #lon = lon.append(response['coord']['lon'])\n",
    "    #lat = lat.append(response['coord']['lat'])\n",
    "    #humidity = pressure.append(response['main']['humidity'])\n",
    "    #cloud = cloudiness.append(response['clouds']['all'])\n",
    "    \n",
    "    #print(f\"The country code of {name} is '{country_code}'.\")"
   ]
  },
  {
   "cell_type": "code",
   "execution_count": 155,
   "metadata": {},
   "outputs": [
    {
     "name": "stdout",
     "output_type": "stream",
     "text": [
      "Processing Record  1  of set  1  |  mezen\n",
      "Processing Record  2  of set  1  |  zarechnyy\n",
      "Processing Record  3  of set  1  |  ntoum\n",
      "Processing Record  4  of set  1  |  dakoro\n",
      "Processing Record  5  of set  1  |  marawi\n",
      "Processing Record  6  of set  1  |  misratah\n",
      "Processing Record  7  of set  1  |  plattling\n",
      "Processing Record  8  of set  1  |  abu samrah\n",
      "Processing Record  9  of set  1  |  kharan\n",
      "Processing Record  10  of set  1  |  igrim\n"
     ]
    }
   ],
   "source": [
    "url = \"http://api.openweathermap.org/data/2.5/weather?\"\n",
    "query_url = url + \"appid=\" + api_key +  \"&units=imperial\" +\"&q=\"\n",
    "lon = []\n",
    "lat = []\n",
    "cloud = []\n",
    "wind = []\n",
    "temp = []\n",
    "humidity =[]\n",
    "max_temp = []\n",
    "country = []\n",
    "date = []\n",
    "name = []\n",
    "count_sets = 1\n",
    "cities_count = 0\n",
    "for city in cities:\n",
    "    #country_code = city.country_code\n",
    "   \n",
    "        \n",
    "    #count_sets = (count_sets(cities_counts = 50)+1)\n",
    "    request_url = query_url + city\n",
    "    #print(cities_count)\n",
    "   \n",
    "    try:\n",
    "        response = requests.get(request_url).json()\n",
    "        if cities_count <= 50:\n",
    "            cities_count = cities_count + 1\n",
    "        else: \n",
    "            cities_count = 0\n",
    "            count_sets = count_sets + 1\n",
    "    #print(f\"The country code of {name} is '{country_code}'.\")\n",
    "    #weather_response = requests.get(query_url)\n",
    "    #weather_json = weather_response.json()\n",
    "        lon.append(response['coord']['lon'])\n",
    "        lat.append(response['coord']['lat'])\n",
    "        humidity.append(response['main']['humidity'])\n",
    "        cloud.append(response['clouds']['all'])\n",
    "        wind.append(response['wind']['speed'])\n",
    "        max_temp.append(response['main']['temp_max'])\n",
    "        country.append(response['sys']['country'])\n",
    "        date.append(response['dt'])\n",
    "        name.append(city)\n",
    "        print(f\"Processing Record \", cities_count , \" of set \" , count_sets, \" | \", city)\n",
    "    except KeyError:\n",
    "        print(\"City not found. Skipping...\")  \n",
    "        #print(\"removing \" + {city.name})\n",
    "        cities.remove(city)\n",
    "#rint(cities)\n",
    "#rint(lat)\n",
    "#ToDos - Fix the F String to print out the desired results. \n",
    "#"
   ]
  },
  {
   "cell_type": "markdown",
   "metadata": {},
   "source": [
    "### Perform API Calls\n",
    "* Perform a weather check on each city using a series of successive API calls.\n",
    "* Include a print log of each city as it'sbeing processed (with the city number and city name).\n"
   ]
  },
  {
   "cell_type": "code",
   "execution_count": null,
   "metadata": {
    "scrolled": true
   },
   "outputs": [],
   "source": []
  },
  {
   "cell_type": "markdown",
   "metadata": {},
   "source": [
    "### Convert Raw Data to DataFrame\n",
    "* Export the city data into a .csv.\n",
    "* Display the DataFrame"
   ]
  },
  {
   "cell_type": "code",
   "execution_count": 156,
   "metadata": {},
   "outputs": [
    {
     "data": {
      "text/html": [
       "<div>\n",
       "<style scoped>\n",
       "    .dataframe tbody tr th:only-of-type {\n",
       "        vertical-align: middle;\n",
       "    }\n",
       "\n",
       "    .dataframe tbody tr th {\n",
       "        vertical-align: top;\n",
       "    }\n",
       "\n",
       "    .dataframe thead th {\n",
       "        text-align: right;\n",
       "    }\n",
       "</style>\n",
       "<table border=\"1\" class=\"dataframe\">\n",
       "  <thead>\n",
       "    <tr style=\"text-align: right;\">\n",
       "      <th></th>\n",
       "      <th>City</th>\n",
       "      <th>Lat</th>\n",
       "      <th>Lng</th>\n",
       "      <th>Max Temp</th>\n",
       "      <th>Humidity</th>\n",
       "      <th>Cloudiness</th>\n",
       "      <th>Wind Speed</th>\n",
       "      <th>Country</th>\n",
       "      <th>Date</th>\n",
       "    </tr>\n",
       "  </thead>\n",
       "  <tbody>\n",
       "    <tr>\n",
       "      <th>0</th>\n",
       "      <td>mezen</td>\n",
       "      <td>65.85</td>\n",
       "      <td>44.24</td>\n",
       "      <td>44.42</td>\n",
       "      <td>93</td>\n",
       "      <td>13</td>\n",
       "      <td>7.18</td>\n",
       "      <td>RU</td>\n",
       "      <td>1599937749</td>\n",
       "    </tr>\n",
       "    <tr>\n",
       "      <th>1</th>\n",
       "      <td>zarechnyy</td>\n",
       "      <td>53.20</td>\n",
       "      <td>45.19</td>\n",
       "      <td>57.99</td>\n",
       "      <td>46</td>\n",
       "      <td>0</td>\n",
       "      <td>1.86</td>\n",
       "      <td>RU</td>\n",
       "      <td>1599937749</td>\n",
       "    </tr>\n",
       "    <tr>\n",
       "      <th>2</th>\n",
       "      <td>ntoum</td>\n",
       "      <td>0.38</td>\n",
       "      <td>9.78</td>\n",
       "      <td>78.80</td>\n",
       "      <td>88</td>\n",
       "      <td>40</td>\n",
       "      <td>9.17</td>\n",
       "      <td>GA</td>\n",
       "      <td>1599937749</td>\n",
       "    </tr>\n",
       "    <tr>\n",
       "      <th>3</th>\n",
       "      <td>dakoro</td>\n",
       "      <td>14.51</td>\n",
       "      <td>6.76</td>\n",
       "      <td>97.39</td>\n",
       "      <td>24</td>\n",
       "      <td>68</td>\n",
       "      <td>3.87</td>\n",
       "      <td>NE</td>\n",
       "      <td>1599937749</td>\n",
       "    </tr>\n",
       "    <tr>\n",
       "      <th>4</th>\n",
       "      <td>marawi</td>\n",
       "      <td>8.00</td>\n",
       "      <td>124.29</td>\n",
       "      <td>73.99</td>\n",
       "      <td>93</td>\n",
       "      <td>100</td>\n",
       "      <td>5.01</td>\n",
       "      <td>PH</td>\n",
       "      <td>1599937750</td>\n",
       "    </tr>\n",
       "    <tr>\n",
       "      <th>5</th>\n",
       "      <td>misratah</td>\n",
       "      <td>32.38</td>\n",
       "      <td>15.09</td>\n",
       "      <td>81.00</td>\n",
       "      <td>75</td>\n",
       "      <td>0</td>\n",
       "      <td>16.87</td>\n",
       "      <td>LY</td>\n",
       "      <td>1599937750</td>\n",
       "    </tr>\n",
       "    <tr>\n",
       "      <th>6</th>\n",
       "      <td>plattling</td>\n",
       "      <td>48.78</td>\n",
       "      <td>12.87</td>\n",
       "      <td>68.00</td>\n",
       "      <td>72</td>\n",
       "      <td>0</td>\n",
       "      <td>1.16</td>\n",
       "      <td>DE</td>\n",
       "      <td>1599937750</td>\n",
       "    </tr>\n",
       "    <tr>\n",
       "      <th>7</th>\n",
       "      <td>abu samrah</td>\n",
       "      <td>35.30</td>\n",
       "      <td>37.18</td>\n",
       "      <td>80.06</td>\n",
       "      <td>39</td>\n",
       "      <td>0</td>\n",
       "      <td>8.41</td>\n",
       "      <td>SY</td>\n",
       "      <td>1599937751</td>\n",
       "    </tr>\n",
       "    <tr>\n",
       "      <th>8</th>\n",
       "      <td>kharan</td>\n",
       "      <td>28.58</td>\n",
       "      <td>65.42</td>\n",
       "      <td>82.33</td>\n",
       "      <td>15</td>\n",
       "      <td>0</td>\n",
       "      <td>0.81</td>\n",
       "      <td>PK</td>\n",
       "      <td>1599937689</td>\n",
       "    </tr>\n",
       "    <tr>\n",
       "      <th>9</th>\n",
       "      <td>igrim</td>\n",
       "      <td>63.19</td>\n",
       "      <td>64.42</td>\n",
       "      <td>47.30</td>\n",
       "      <td>92</td>\n",
       "      <td>21</td>\n",
       "      <td>6.35</td>\n",
       "      <td>RU</td>\n",
       "      <td>1599937751</td>\n",
       "    </tr>\n",
       "  </tbody>\n",
       "</table>\n",
       "</div>"
      ],
      "text/plain": [
       "         City    Lat     Lng  Max Temp  Humidity  Cloudiness  Wind Speed  \\\n",
       "0       mezen  65.85   44.24     44.42        93          13        7.18   \n",
       "1   zarechnyy  53.20   45.19     57.99        46           0        1.86   \n",
       "2       ntoum   0.38    9.78     78.80        88          40        9.17   \n",
       "3      dakoro  14.51    6.76     97.39        24          68        3.87   \n",
       "4      marawi   8.00  124.29     73.99        93         100        5.01   \n",
       "5    misratah  32.38   15.09     81.00        75           0       16.87   \n",
       "6   plattling  48.78   12.87     68.00        72           0        1.16   \n",
       "7  abu samrah  35.30   37.18     80.06        39           0        8.41   \n",
       "8      kharan  28.58   65.42     82.33        15           0        0.81   \n",
       "9       igrim  63.19   64.42     47.30        92          21        6.35   \n",
       "\n",
       "  Country        Date  \n",
       "0      RU  1599937749  \n",
       "1      RU  1599937749  \n",
       "2      GA  1599937749  \n",
       "3      NE  1599937749  \n",
       "4      PH  1599937750  \n",
       "5      LY  1599937750  \n",
       "6      DE  1599937750  \n",
       "7      SY  1599937751  \n",
       "8      PK  1599937689  \n",
       "9      RU  1599937751  "
      ]
     },
     "execution_count": 156,
     "metadata": {},
     "output_type": "execute_result"
    }
   ],
   "source": [
    "weather_data = {\"City\": name, \"Lat\": lat, \"Lng\": lon, \"Max Temp\": max_temp, \"Humidity\": humidity, \"Cloudiness\": cloud, \"Wind Speed\": wind, \"Country\": country, \"Date\": date}\n",
    "weather_data = pd.DataFrame(weather_data)\n",
    "weather_data"
   ]
  },
  {
   "cell_type": "code",
   "execution_count": 157,
   "metadata": {},
   "outputs": [
    {
     "data": {
      "text/html": [
       "<div>\n",
       "<style scoped>\n",
       "    .dataframe tbody tr th:only-of-type {\n",
       "        vertical-align: middle;\n",
       "    }\n",
       "\n",
       "    .dataframe tbody tr th {\n",
       "        vertical-align: top;\n",
       "    }\n",
       "\n",
       "    .dataframe thead th {\n",
       "        text-align: right;\n",
       "    }\n",
       "</style>\n",
       "<table border=\"1\" class=\"dataframe\">\n",
       "  <thead>\n",
       "    <tr style=\"text-align: right;\">\n",
       "      <th></th>\n",
       "      <th>Lat</th>\n",
       "      <th>Lng</th>\n",
       "      <th>Max Temp</th>\n",
       "      <th>Humidity</th>\n",
       "      <th>Cloudiness</th>\n",
       "      <th>Wind Speed</th>\n",
       "      <th>Date</th>\n",
       "    </tr>\n",
       "  </thead>\n",
       "  <tbody>\n",
       "    <tr>\n",
       "      <th>count</th>\n",
       "      <td>10.000000</td>\n",
       "      <td>10.000000</td>\n",
       "      <td>10.000000</td>\n",
       "      <td>10.000000</td>\n",
       "      <td>10.000000</td>\n",
       "      <td>10.00000</td>\n",
       "      <td>1.000000e+01</td>\n",
       "    </tr>\n",
       "    <tr>\n",
       "      <th>mean</th>\n",
       "      <td>35.017000</td>\n",
       "      <td>42.524000</td>\n",
       "      <td>71.128000</td>\n",
       "      <td>63.700000</td>\n",
       "      <td>24.200000</td>\n",
       "      <td>6.06900</td>\n",
       "      <td>1.599938e+09</td>\n",
       "    </tr>\n",
       "    <tr>\n",
       "      <th>std</th>\n",
       "      <td>22.762248</td>\n",
       "      <td>36.072717</td>\n",
       "      <td>16.742983</td>\n",
       "      <td>30.140596</td>\n",
       "      <td>34.924681</td>\n",
       "      <td>4.81317</td>\n",
       "      <td>1.923567e+01</td>\n",
       "    </tr>\n",
       "    <tr>\n",
       "      <th>min</th>\n",
       "      <td>0.380000</td>\n",
       "      <td>6.760000</td>\n",
       "      <td>44.420000</td>\n",
       "      <td>15.000000</td>\n",
       "      <td>0.000000</td>\n",
       "      <td>0.81000</td>\n",
       "      <td>1.599938e+09</td>\n",
       "    </tr>\n",
       "    <tr>\n",
       "      <th>25%</th>\n",
       "      <td>18.027500</td>\n",
       "      <td>13.425000</td>\n",
       "      <td>60.492500</td>\n",
       "      <td>40.750000</td>\n",
       "      <td>0.000000</td>\n",
       "      <td>2.36250</td>\n",
       "      <td>1.599938e+09</td>\n",
       "    </tr>\n",
       "    <tr>\n",
       "      <th>50%</th>\n",
       "      <td>33.840000</td>\n",
       "      <td>40.710000</td>\n",
       "      <td>76.395000</td>\n",
       "      <td>73.500000</td>\n",
       "      <td>6.500000</td>\n",
       "      <td>5.68000</td>\n",
       "      <td>1.599938e+09</td>\n",
       "    </tr>\n",
       "    <tr>\n",
       "      <th>75%</th>\n",
       "      <td>52.095000</td>\n",
       "      <td>59.612500</td>\n",
       "      <td>80.765000</td>\n",
       "      <td>91.000000</td>\n",
       "      <td>35.250000</td>\n",
       "      <td>8.10250</td>\n",
       "      <td>1.599938e+09</td>\n",
       "    </tr>\n",
       "    <tr>\n",
       "      <th>max</th>\n",
       "      <td>65.850000</td>\n",
       "      <td>124.290000</td>\n",
       "      <td>97.390000</td>\n",
       "      <td>93.000000</td>\n",
       "      <td>100.000000</td>\n",
       "      <td>16.87000</td>\n",
       "      <td>1.599938e+09</td>\n",
       "    </tr>\n",
       "  </tbody>\n",
       "</table>\n",
       "</div>"
      ],
      "text/plain": [
       "             Lat         Lng   Max Temp   Humidity  Cloudiness  Wind Speed  \\\n",
       "count  10.000000   10.000000  10.000000  10.000000   10.000000    10.00000   \n",
       "mean   35.017000   42.524000  71.128000  63.700000   24.200000     6.06900   \n",
       "std    22.762248   36.072717  16.742983  30.140596   34.924681     4.81317   \n",
       "min     0.380000    6.760000  44.420000  15.000000    0.000000     0.81000   \n",
       "25%    18.027500   13.425000  60.492500  40.750000    0.000000     2.36250   \n",
       "50%    33.840000   40.710000  76.395000  73.500000    6.500000     5.68000   \n",
       "75%    52.095000   59.612500  80.765000  91.000000   35.250000     8.10250   \n",
       "max    65.850000  124.290000  97.390000  93.000000  100.000000    16.87000   \n",
       "\n",
       "               Date  \n",
       "count  1.000000e+01  \n",
       "mean   1.599938e+09  \n",
       "std    1.923567e+01  \n",
       "min    1.599938e+09  \n",
       "25%    1.599938e+09  \n",
       "50%    1.599938e+09  \n",
       "75%    1.599938e+09  \n",
       "max    1.599938e+09  "
      ]
     },
     "execution_count": 157,
     "metadata": {},
     "output_type": "execute_result"
    }
   ],
   "source": [
    "#Weather Stats\n",
    "weather_stats = weather_data.describe()\n",
    "weather_stats"
   ]
  },
  {
   "cell_type": "markdown",
   "metadata": {},
   "source": [
    "## Inspect the data and remove the cities where the humidity > 100%.\n",
    "----\n",
    "Skip this step if there are no cities that have humidity > 100%. "
   ]
  },
  {
   "cell_type": "code",
   "execution_count": 158,
   "metadata": {},
   "outputs": [
    {
     "name": "stdout",
     "output_type": "stream",
     "text": [
      "All cities under 100% humidity\n"
     ]
    },
    {
     "data": {
      "text/html": [
       "<div>\n",
       "<style scoped>\n",
       "    .dataframe tbody tr th:only-of-type {\n",
       "        vertical-align: middle;\n",
       "    }\n",
       "\n",
       "    .dataframe tbody tr th {\n",
       "        vertical-align: top;\n",
       "    }\n",
       "\n",
       "    .dataframe thead th {\n",
       "        text-align: right;\n",
       "    }\n",
       "</style>\n",
       "<table border=\"1\" class=\"dataframe\">\n",
       "  <thead>\n",
       "    <tr style=\"text-align: right;\">\n",
       "      <th></th>\n",
       "      <th>City</th>\n",
       "      <th>Lat</th>\n",
       "      <th>Lng</th>\n",
       "      <th>Max Temp</th>\n",
       "      <th>Humidity</th>\n",
       "      <th>Cloudiness</th>\n",
       "      <th>Wind Speed</th>\n",
       "      <th>Country</th>\n",
       "      <th>Date</th>\n",
       "    </tr>\n",
       "  </thead>\n",
       "  <tbody>\n",
       "    <tr>\n",
       "      <th>0</th>\n",
       "      <td>mezen</td>\n",
       "      <td>65.85</td>\n",
       "      <td>44.24</td>\n",
       "      <td>44.42</td>\n",
       "      <td>93</td>\n",
       "      <td>13</td>\n",
       "      <td>7.18</td>\n",
       "      <td>RU</td>\n",
       "      <td>1599937749</td>\n",
       "    </tr>\n",
       "    <tr>\n",
       "      <th>1</th>\n",
       "      <td>zarechnyy</td>\n",
       "      <td>53.20</td>\n",
       "      <td>45.19</td>\n",
       "      <td>57.99</td>\n",
       "      <td>46</td>\n",
       "      <td>0</td>\n",
       "      <td>1.86</td>\n",
       "      <td>RU</td>\n",
       "      <td>1599937749</td>\n",
       "    </tr>\n",
       "    <tr>\n",
       "      <th>2</th>\n",
       "      <td>ntoum</td>\n",
       "      <td>0.38</td>\n",
       "      <td>9.78</td>\n",
       "      <td>78.80</td>\n",
       "      <td>88</td>\n",
       "      <td>40</td>\n",
       "      <td>9.17</td>\n",
       "      <td>GA</td>\n",
       "      <td>1599937749</td>\n",
       "    </tr>\n",
       "    <tr>\n",
       "      <th>3</th>\n",
       "      <td>dakoro</td>\n",
       "      <td>14.51</td>\n",
       "      <td>6.76</td>\n",
       "      <td>97.39</td>\n",
       "      <td>24</td>\n",
       "      <td>68</td>\n",
       "      <td>3.87</td>\n",
       "      <td>NE</td>\n",
       "      <td>1599937749</td>\n",
       "    </tr>\n",
       "    <tr>\n",
       "      <th>4</th>\n",
       "      <td>marawi</td>\n",
       "      <td>8.00</td>\n",
       "      <td>124.29</td>\n",
       "      <td>73.99</td>\n",
       "      <td>93</td>\n",
       "      <td>100</td>\n",
       "      <td>5.01</td>\n",
       "      <td>PH</td>\n",
       "      <td>1599937750</td>\n",
       "    </tr>\n",
       "    <tr>\n",
       "      <th>5</th>\n",
       "      <td>misratah</td>\n",
       "      <td>32.38</td>\n",
       "      <td>15.09</td>\n",
       "      <td>81.00</td>\n",
       "      <td>75</td>\n",
       "      <td>0</td>\n",
       "      <td>16.87</td>\n",
       "      <td>LY</td>\n",
       "      <td>1599937750</td>\n",
       "    </tr>\n",
       "    <tr>\n",
       "      <th>6</th>\n",
       "      <td>plattling</td>\n",
       "      <td>48.78</td>\n",
       "      <td>12.87</td>\n",
       "      <td>68.00</td>\n",
       "      <td>72</td>\n",
       "      <td>0</td>\n",
       "      <td>1.16</td>\n",
       "      <td>DE</td>\n",
       "      <td>1599937750</td>\n",
       "    </tr>\n",
       "    <tr>\n",
       "      <th>7</th>\n",
       "      <td>abu samrah</td>\n",
       "      <td>35.30</td>\n",
       "      <td>37.18</td>\n",
       "      <td>80.06</td>\n",
       "      <td>39</td>\n",
       "      <td>0</td>\n",
       "      <td>8.41</td>\n",
       "      <td>SY</td>\n",
       "      <td>1599937751</td>\n",
       "    </tr>\n",
       "    <tr>\n",
       "      <th>8</th>\n",
       "      <td>kharan</td>\n",
       "      <td>28.58</td>\n",
       "      <td>65.42</td>\n",
       "      <td>82.33</td>\n",
       "      <td>15</td>\n",
       "      <td>0</td>\n",
       "      <td>0.81</td>\n",
       "      <td>PK</td>\n",
       "      <td>1599937689</td>\n",
       "    </tr>\n",
       "    <tr>\n",
       "      <th>9</th>\n",
       "      <td>igrim</td>\n",
       "      <td>63.19</td>\n",
       "      <td>64.42</td>\n",
       "      <td>47.30</td>\n",
       "      <td>92</td>\n",
       "      <td>21</td>\n",
       "      <td>6.35</td>\n",
       "      <td>RU</td>\n",
       "      <td>1599937751</td>\n",
       "    </tr>\n",
       "  </tbody>\n",
       "</table>\n",
       "</div>"
      ],
      "text/plain": [
       "         City    Lat     Lng  Max Temp  Humidity  Cloudiness  Wind Speed  \\\n",
       "0       mezen  65.85   44.24     44.42        93          13        7.18   \n",
       "1   zarechnyy  53.20   45.19     57.99        46           0        1.86   \n",
       "2       ntoum   0.38    9.78     78.80        88          40        9.17   \n",
       "3      dakoro  14.51    6.76     97.39        24          68        3.87   \n",
       "4      marawi   8.00  124.29     73.99        93         100        5.01   \n",
       "5    misratah  32.38   15.09     81.00        75           0       16.87   \n",
       "6   plattling  48.78   12.87     68.00        72           0        1.16   \n",
       "7  abu samrah  35.30   37.18     80.06        39           0        8.41   \n",
       "8      kharan  28.58   65.42     82.33        15           0        0.81   \n",
       "9       igrim  63.19   64.42     47.30        92          21        6.35   \n",
       "\n",
       "  Country        Date  \n",
       "0      RU  1599937749  \n",
       "1      RU  1599937749  \n",
       "2      GA  1599937749  \n",
       "3      NE  1599937749  \n",
       "4      PH  1599937750  \n",
       "5      LY  1599937750  \n",
       "6      DE  1599937750  \n",
       "7      SY  1599937751  \n",
       "8      PK  1599937689  \n",
       "9      RU  1599937751  "
      ]
     },
     "execution_count": 158,
     "metadata": {},
     "output_type": "execute_result"
    }
   ],
   "source": [
    "    low_humidity = weather_stats.iloc[7]['Humidity']\n",
    "    low_humidity\n",
    "    if low_humidity < 100:\n",
    "        print(\"All cities under 100% humidity\")\n",
    "        clean_data_df = weather_data\n",
    "    else:\n",
    "        #TODO remove cities that have humidity value greather than 100\n",
    "        print(\"One or more cities greater than 100% humidity\")\n",
    "        clean_data_df =weather_data\n",
    "\n",
    "clean_data_df\n",
    "    #humidity_df = mouse_data_nodupes_df[mouse_data_nodupes_df['Drug Regimen'] == drug]\n"
   ]
  },
  {
   "cell_type": "code",
   "execution_count": 159,
   "metadata": {},
   "outputs": [],
   "source": [
    "#  Get the indices of cities that have humidity over 100%.\n"
   ]
  },
  {
   "cell_type": "code",
   "execution_count": 160,
   "metadata": {},
   "outputs": [],
   "source": [
    "# Make a new DataFrame equal to the city data to drop all humidity outliers by index.\n",
    "# Passing \"inplace=False\" will make a copy of the city_data DataFrame, which we call \"clean_city_data\".\n"
   ]
  },
  {
   "cell_type": "code",
   "execution_count": null,
   "metadata": {},
   "outputs": [],
   "source": [
    "\n"
   ]
  },
  {
   "cell_type": "markdown",
   "metadata": {},
   "source": [
    "## Plotting the Data\n",
    "* Use proper labeling of the plots using plot titles (including date of analysis) and axes labels.\n",
    "* Save the plotted figures as .pngs."
   ]
  },
  {
   "cell_type": "markdown",
   "metadata": {},
   "source": [
    "## Latitude vs. Temperature Plot"
   ]
  },
  {
   "cell_type": "code",
   "execution_count": 161,
   "metadata": {
    "scrolled": true
   },
   "outputs": [
    {
     "data": {
      "text/plain": [
       "<matplotlib.collections.PathCollection at 0x1de6010e630>"
      ]
     },
     "execution_count": 161,
     "metadata": {},
     "output_type": "execute_result"
    },
    {
     "data": {
      "image/png": "[encoded data removed]",
      "text/plain": [
       "<Figure size 432x288 with 1 Axes>"
      ]
     },
     "metadata": {
      "needs_background": "light"
     },
     "output_type": "display_data"
    }
   ],
   "source": [
    "plt.title(\"Latiude vs Temperature\")\n",
    "plt.xlabel(\"Latitude\")\n",
    "plt.ylabel(\"Temperature\")\n",
    "plt.scatter(clean_data_df[\"Lat\"], clean_data_df[\"Max Temp\"], alpha = 0.5)"
   ]
  },
  {
   "cell_type": "markdown",
   "metadata": {},
   "source": [
    "## Latitude vs. Humidity Plot"
   ]
  },
  {
   "cell_type": "code",
   "execution_count": 162,
   "metadata": {},
   "outputs": [
    {
     "data": {
      "text/plain": [
       "<matplotlib.collections.PathCollection at 0x1de601722b0>"
      ]
     },
     "execution_count": 162,
     "metadata": {},
     "output_type": "execute_result"
    },
    {
     "data": {
      "image/png": "[encoded data removed]",
      "text/plain": [
       "<Figure size 432x288 with 1 Axes>"
      ]
     },
     "metadata": {
      "needs_background": "light"
     },
     "output_type": "display_data"
    }
   ],
   "source": [
    "plt.title(\"Latiude vs Humidity\")\n",
    "plt.xlabel(\"Latitude\")\n",
    "plt.ylabel(\"Humidity\")\n",
    "plt.scatter(clean_data_df[\"Lat\"], clean_data_df[\"Humidity\"], alpha = 0.5)"
   ]
  },
  {
   "cell_type": "markdown",
   "metadata": {},
   "source": [
    "## Latitude vs. Cloudiness Plot"
   ]
  },
  {
   "cell_type": "code",
   "execution_count": 163,
   "metadata": {},
   "outputs": [
    {
     "data": {
      "text/plain": [
       "<matplotlib.collections.PathCollection at 0x1de601cfa90>"
      ]
     },
     "execution_count": 163,
     "metadata": {},
     "output_type": "execute_result"
    },
    {
     "data": {
      "image/png": "[encoded data removed]",
      "text/plain": [
       "<Figure size 432x288 with 1 Axes>"
      ]
     },
     "metadata": {
      "needs_background": "light"
     },
     "output_type": "display_data"
    }
   ],
   "source": [
    "plt.title(\"Latiude vs Cloudiness\")\n",
    "plt.xlabel(\"Latitude\")\n",
    "plt.ylabel(\"Cloudiness (%)\")\n",
    "plt.scatter(clean_data_df[\"Lat\"], clean_data_df[\"Cloudiness\"], alpha = 0.5)"
   ]
  },
  {
   "cell_type": "markdown",
   "metadata": {},
   "source": [
    "## Latitude vs. Wind Speed Plot"
   ]
  },
  {
   "cell_type": "code",
   "execution_count": 164,
   "metadata": {},
   "outputs": [
    {
     "data": {
      "text/plain": [
       "<matplotlib.collections.PathCollection at 0x1de60231940>"
      ]
     },
     "execution_count": 164,
     "metadata": {},
     "output_type": "execute_result"
    },
    {
     "data": {
      "image/png": "[encoded data removed]",
      "text/plain": [
       "<Figure size 432x288 with 1 Axes>"
      ]
     },
     "metadata": {
      "needs_background": "light"
     },
     "output_type": "display_data"
    }
   ],
   "source": [
    "plt.title(\"Latiude vs Wind Speed\")\n",
    "plt.xlabel(\"Latitude\")\n",
    "plt.ylabel(\"Wind Speed\")\n",
    "plt.scatter(clean_data_df[\"Lat\"], clean_data_df[\"Wind Speed\"], alpha = 0.5)"
   ]
  },
  {
   "cell_type": "markdown",
   "metadata": {},
   "source": [
    "## Linear Regression"
   ]
  },
  {
   "cell_type": "markdown",
   "metadata": {},
   "source": [
    "####  Northern Hemisphere - Max Temp vs. Latitude Linear Regression"
   ]
  },
  {
   "cell_type": "code",
   "execution_count": 165,
   "metadata": {},
   "outputs": [
    {
     "data": {
      "text/html": [
       "<div>\n",
       "<style scoped>\n",
       "    .dataframe tbody tr th:only-of-type {\n",
       "        vertical-align: middle;\n",
       "    }\n",
       "\n",
       "    .dataframe tbody tr th {\n",
       "        vertical-align: top;\n",
       "    }\n",
       "\n",
       "    .dataframe thead th {\n",
       "        text-align: right;\n",
       "    }\n",
       "</style>\n",
       "<table border=\"1\" class=\"dataframe\">\n",
       "  <thead>\n",
       "    <tr style=\"text-align: right;\">\n",
       "      <th></th>\n",
       "      <th>City</th>\n",
       "      <th>Lat</th>\n",
       "      <th>Lng</th>\n",
       "      <th>Max Temp</th>\n",
       "      <th>Humidity</th>\n",
       "      <th>Cloudiness</th>\n",
       "      <th>Wind Speed</th>\n",
       "      <th>Country</th>\n",
       "      <th>Date</th>\n",
       "    </tr>\n",
       "  </thead>\n",
       "  <tbody>\n",
       "    <tr>\n",
       "      <th>0</th>\n",
       "      <td>mezen</td>\n",
       "      <td>65.85</td>\n",
       "      <td>44.24</td>\n",
       "      <td>44.42</td>\n",
       "      <td>93</td>\n",
       "      <td>13</td>\n",
       "      <td>7.18</td>\n",
       "      <td>RU</td>\n",
       "      <td>1599937749</td>\n",
       "    </tr>\n",
       "    <tr>\n",
       "      <th>1</th>\n",
       "      <td>zarechnyy</td>\n",
       "      <td>53.20</td>\n",
       "      <td>45.19</td>\n",
       "      <td>57.99</td>\n",
       "      <td>46</td>\n",
       "      <td>0</td>\n",
       "      <td>1.86</td>\n",
       "      <td>RU</td>\n",
       "      <td>1599937749</td>\n",
       "    </tr>\n",
       "    <tr>\n",
       "      <th>2</th>\n",
       "      <td>ntoum</td>\n",
       "      <td>0.38</td>\n",
       "      <td>9.78</td>\n",
       "      <td>78.80</td>\n",
       "      <td>88</td>\n",
       "      <td>40</td>\n",
       "      <td>9.17</td>\n",
       "      <td>GA</td>\n",
       "      <td>1599937749</td>\n",
       "    </tr>\n",
       "    <tr>\n",
       "      <th>3</th>\n",
       "      <td>dakoro</td>\n",
       "      <td>14.51</td>\n",
       "      <td>6.76</td>\n",
       "      <td>97.39</td>\n",
       "      <td>24</td>\n",
       "      <td>68</td>\n",
       "      <td>3.87</td>\n",
       "      <td>NE</td>\n",
       "      <td>1599937749</td>\n",
       "    </tr>\n",
       "    <tr>\n",
       "      <th>4</th>\n",
       "      <td>marawi</td>\n",
       "      <td>8.00</td>\n",
       "      <td>124.29</td>\n",
       "      <td>73.99</td>\n",
       "      <td>93</td>\n",
       "      <td>100</td>\n",
       "      <td>5.01</td>\n",
       "      <td>PH</td>\n",
       "      <td>1599937750</td>\n",
       "    </tr>\n",
       "    <tr>\n",
       "      <th>5</th>\n",
       "      <td>misratah</td>\n",
       "      <td>32.38</td>\n",
       "      <td>15.09</td>\n",
       "      <td>81.00</td>\n",
       "      <td>75</td>\n",
       "      <td>0</td>\n",
       "      <td>16.87</td>\n",
       "      <td>LY</td>\n",
       "      <td>1599937750</td>\n",
       "    </tr>\n",
       "    <tr>\n",
       "      <th>6</th>\n",
       "      <td>plattling</td>\n",
       "      <td>48.78</td>\n",
       "      <td>12.87</td>\n",
       "      <td>68.00</td>\n",
       "      <td>72</td>\n",
       "      <td>0</td>\n",
       "      <td>1.16</td>\n",
       "      <td>DE</td>\n",
       "      <td>1599937750</td>\n",
       "    </tr>\n",
       "    <tr>\n",
       "      <th>7</th>\n",
       "      <td>abu samrah</td>\n",
       "      <td>35.30</td>\n",
       "      <td>37.18</td>\n",
       "      <td>80.06</td>\n",
       "      <td>39</td>\n",
       "      <td>0</td>\n",
       "      <td>8.41</td>\n",
       "      <td>SY</td>\n",
       "      <td>1599937751</td>\n",
       "    </tr>\n",
       "    <tr>\n",
       "      <th>8</th>\n",
       "      <td>kharan</td>\n",
       "      <td>28.58</td>\n",
       "      <td>65.42</td>\n",
       "      <td>82.33</td>\n",
       "      <td>15</td>\n",
       "      <td>0</td>\n",
       "      <td>0.81</td>\n",
       "      <td>PK</td>\n",
       "      <td>1599937689</td>\n",
       "    </tr>\n",
       "    <tr>\n",
       "      <th>9</th>\n",
       "      <td>igrim</td>\n",
       "      <td>63.19</td>\n",
       "      <td>64.42</td>\n",
       "      <td>47.30</td>\n",
       "      <td>92</td>\n",
       "      <td>21</td>\n",
       "      <td>6.35</td>\n",
       "      <td>RU</td>\n",
       "      <td>1599937751</td>\n",
       "    </tr>\n",
       "  </tbody>\n",
       "</table>\n",
       "</div>"
      ],
      "text/plain": [
       "         City    Lat     Lng  Max Temp  Humidity  Cloudiness  Wind Speed  \\\n",
       "0       mezen  65.85   44.24     44.42        93          13        7.18   \n",
       "1   zarechnyy  53.20   45.19     57.99        46           0        1.86   \n",
       "2       ntoum   0.38    9.78     78.80        88          40        9.17   \n",
       "3      dakoro  14.51    6.76     97.39        24          68        3.87   \n",
       "4      marawi   8.00  124.29     73.99        93         100        5.01   \n",
       "5    misratah  32.38   15.09     81.00        75           0       16.87   \n",
       "6   plattling  48.78   12.87     68.00        72           0        1.16   \n",
       "7  abu samrah  35.30   37.18     80.06        39           0        8.41   \n",
       "8      kharan  28.58   65.42     82.33        15           0        0.81   \n",
       "9       igrim  63.19   64.42     47.30        92          21        6.35   \n",
       "\n",
       "  Country        Date  \n",
       "0      RU  1599937749  \n",
       "1      RU  1599937749  \n",
       "2      GA  1599937749  \n",
       "3      NE  1599937749  \n",
       "4      PH  1599937750  \n",
       "5      LY  1599937750  \n",
       "6      DE  1599937750  \n",
       "7      SY  1599937751  \n",
       "8      PK  1599937689  \n",
       "9      RU  1599937751  "
      ]
     },
     "execution_count": 165,
     "metadata": {},
     "output_type": "execute_result"
    }
   ],
   "source": [
    "#Northern Hemisphere Calculations\n",
    "northern_hemisphere_df = clean_data_df[clean_data_df['Lat'] > 0] \n",
    "northern_hemisphere_df"
   ]
  },
  {
   "cell_type": "code",
   "execution_count": 175,
   "metadata": {},
   "outputs": [
    {
     "data": {
      "image/png": "[encoded data removed]",
      "text/plain": [
       "<Figure size 432x288 with 1 Axes>"
      ]
     },
     "metadata": {
      "needs_background": "light"
     },
     "output_type": "display_data"
    }
   ],
   "source": [
    "plt.scatter(northern_hemisphere_df[\"Lat\"], northern_hemisphere_df[\"Max Temp\"], alpha = 0.5)\n",
    "\n",
    "(slope, intercept, rvalue, pvalue, stderr) = st.linregress(northern_hemisphere_df[\"Lat\"],northern_hemisphere_df [\"Max Temp\"])\n",
    "regress_values = (northern_hemisphere_df[\"Lat\"]) * slope + intercept\n",
    "\n",
    "line_eq = \"y = \" + str(round(slope,2)) + \"x\" + \"+\" + str(round(intercept,2))\n",
    "plt.scatter(northern_hemisphere_df[\"Lat\"],northern_hemisphere_df [\"Max Temp\"])\n",
    "plt.plot(northern_hemisphere_df[\"Lat\"],regress_values,\"b-\")\n",
    "plt.annotate(line_eq,(0,0),fontsize=15,color=\"red\")\n",
    "plt.title(\"Nothern Hemisphere - Max Temp vs Latitude\")\n",
    "plt.xlabel('Lat')\n",
    "plt.ylabel('Max Temp (f)')\n",
    "plt.show()\n"
   ]
  },
  {
   "cell_type": "markdown",
   "metadata": {},
   "source": [
    "####  Southern Hemisphere - Max Temp vs. Latitude Linear Regression"
   ]
  },
  {
   "cell_type": "code",
   "execution_count": 176,
   "metadata": {},
   "outputs": [
    {
     "data": {
      "text/html": [
       "<div>\n",
       "<style scoped>\n",
       "    .dataframe tbody tr th:only-of-type {\n",
       "        vertical-align: middle;\n",
       "    }\n",
       "\n",
       "    .dataframe tbody tr th {\n",
       "        vertical-align: top;\n",
       "    }\n",
       "\n",
       "    .dataframe thead th {\n",
       "        text-align: right;\n",
       "    }\n",
       "</style>\n",
       "<table border=\"1\" class=\"dataframe\">\n",
       "  <thead>\n",
       "    <tr style=\"text-align: right;\">\n",
       "      <th></th>\n",
       "      <th>City</th>\n",
       "      <th>Lat</th>\n",
       "      <th>Lng</th>\n",
       "      <th>Max Temp</th>\n",
       "      <th>Humidity</th>\n",
       "      <th>Cloudiness</th>\n",
       "      <th>Wind Speed</th>\n",
       "      <th>Country</th>\n",
       "      <th>Date</th>\n",
       "    </tr>\n",
       "  </thead>\n",
       "  <tbody>\n",
       "  </tbody>\n",
       "</table>\n",
       "</div>"
      ],
      "text/plain": [
       "Empty DataFrame\n",
       "Columns: [City, Lat, Lng, Max Temp, Humidity, Cloudiness, Wind Speed, Country, Date]\n",
       "Index: []"
      ]
     },
     "execution_count": 176,
     "metadata": {},
     "output_type": "execute_result"
    }
   ],
   "source": [
    "#Southern Hemisphere - \n",
    "southern_hemisphere_df = clean_data_df[clean_data_df['Lat'] < 0] \n",
    "southern_hemisphere_df"
   ]
  },
  {
   "cell_type": "code",
   "execution_count": 177,
   "metadata": {},
   "outputs": [
    {
     "ename": "ValueError",
     "evalue": "Inputs must not be empty.",
     "output_type": "error",
     "traceback": [
      "\u001b[1;31m---------------------------------------------------------------------------\u001b[0m",
      "\u001b[1;31mValueError\u001b[0m                                Traceback (most recent call last)",
      "\u001b[1;32m<ipython-input-177-1a56bf48e971>\u001b[0m in \u001b[0;36m<module>\u001b[1;34m\u001b[0m\n\u001b[0;32m      1\u001b[0m \u001b[0mplt\u001b[0m\u001b[1;33m.\u001b[0m\u001b[0mscatter\u001b[0m\u001b[1;33m(\u001b[0m\u001b[0msouthern_hemisphere_df\u001b[0m\u001b[1;33m[\u001b[0m\u001b[1;34m\"Lat\"\u001b[0m\u001b[1;33m]\u001b[0m\u001b[1;33m,\u001b[0m \u001b[0msouthern_hemisphere_df\u001b[0m\u001b[1;33m[\u001b[0m\u001b[1;34m\"Max Temp\"\u001b[0m\u001b[1;33m]\u001b[0m\u001b[1;33m,\u001b[0m \u001b[0malpha\u001b[0m \u001b[1;33m=\u001b[0m \u001b[1;36m0.5\u001b[0m\u001b[1;33m)\u001b[0m\u001b[1;33m\u001b[0m\u001b[1;33m\u001b[0m\u001b[0m\n\u001b[0;32m      2\u001b[0m \u001b[1;33m\u001b[0m\u001b[0m\n\u001b[1;32m----> 3\u001b[1;33m \u001b[1;33m(\u001b[0m\u001b[0mslope\u001b[0m\u001b[1;33m,\u001b[0m \u001b[0mintercept\u001b[0m\u001b[1;33m,\u001b[0m \u001b[0mrvalue\u001b[0m\u001b[1;33m,\u001b[0m \u001b[0mpvalue\u001b[0m\u001b[1;33m,\u001b[0m \u001b[0mstderr\u001b[0m\u001b[1;33m)\u001b[0m \u001b[1;33m=\u001b[0m \u001b[0mst\u001b[0m\u001b[1;33m.\u001b[0m\u001b[0mlinregress\u001b[0m\u001b[1;33m(\u001b[0m\u001b[0msouthern_hemisphere_df\u001b[0m\u001b[1;33m[\u001b[0m\u001b[1;34m\"Lat\"\u001b[0m\u001b[1;33m]\u001b[0m\u001b[1;33m,\u001b[0m\u001b[0msouthern_hemisphere_df\u001b[0m \u001b[1;33m[\u001b[0m\u001b[1;34m\"Max Temp\"\u001b[0m\u001b[1;33m]\u001b[0m\u001b[1;33m)\u001b[0m\u001b[1;33m\u001b[0m\u001b[1;33m\u001b[0m\u001b[0m\n\u001b[0m\u001b[0;32m      4\u001b[0m \u001b[0mregress_values\u001b[0m \u001b[1;33m=\u001b[0m \u001b[1;33m(\u001b[0m\u001b[0msouthern_hemisphere_df\u001b[0m\u001b[1;33m[\u001b[0m\u001b[1;34m\"Lat\"\u001b[0m\u001b[1;33m]\u001b[0m\u001b[1;33m)\u001b[0m \u001b[1;33m*\u001b[0m \u001b[0mslope\u001b[0m \u001b[1;33m+\u001b[0m \u001b[0mintercept\u001b[0m\u001b[1;33m\u001b[0m\u001b[1;33m\u001b[0m\u001b[0m\n\u001b[0;32m      5\u001b[0m \u001b[1;33m\u001b[0m\u001b[0m\n",
      "\u001b[1;32m~\\anaconda3\\envs\\bcs\\lib\\site-packages\\scipy\\stats\\_stats_mstats_common.py\u001b[0m in \u001b[0;36mlinregress\u001b[1;34m(x, y)\u001b[0m\n\u001b[0;32m    107\u001b[0m \u001b[1;33m\u001b[0m\u001b[0m\n\u001b[0;32m    108\u001b[0m     \u001b[1;32mif\u001b[0m \u001b[0mx\u001b[0m\u001b[1;33m.\u001b[0m\u001b[0msize\u001b[0m \u001b[1;33m==\u001b[0m \u001b[1;36m0\u001b[0m \u001b[1;32mor\u001b[0m \u001b[0my\u001b[0m\u001b[1;33m.\u001b[0m\u001b[0msize\u001b[0m \u001b[1;33m==\u001b[0m \u001b[1;36m0\u001b[0m\u001b[1;33m:\u001b[0m\u001b[1;33m\u001b[0m\u001b[1;33m\u001b[0m\u001b[0m\n\u001b[1;32m--> 109\u001b[1;33m         \u001b[1;32mraise\u001b[0m \u001b[0mValueError\u001b[0m\u001b[1;33m(\u001b[0m\u001b[1;34m\"Inputs must not be empty.\"\u001b[0m\u001b[1;33m)\u001b[0m\u001b[1;33m\u001b[0m\u001b[1;33m\u001b[0m\u001b[0m\n\u001b[0m\u001b[0;32m    110\u001b[0m \u001b[1;33m\u001b[0m\u001b[0m\n\u001b[0;32m    111\u001b[0m     \u001b[0mn\u001b[0m \u001b[1;33m=\u001b[0m \u001b[0mlen\u001b[0m\u001b[1;33m(\u001b[0m\u001b[0mx\u001b[0m\u001b[1;33m)\u001b[0m\u001b[1;33m\u001b[0m\u001b[1;33m\u001b[0m\u001b[0m\n",
      "\u001b[1;31mValueError\u001b[0m: Inputs must not be empty."
     ]
    },
    {
     "data": {
      "image/png": "[encoded data removed]",
      "text/plain": [
       "<Figure size 432x288 with 1 Axes>"
      ]
     },
     "metadata": {
      "needs_background": "light"
     },
     "output_type": "display_data"
    }
   ],
   "source": [
    "plt.scatter(southern_hemisphere_df[\"Lat\"], southern_hemisphere_df[\"Max Temp\"], alpha = 0.5)\n",
    "\n",
    "(slope, intercept, rvalue, pvalue, stderr) = st.linregress(southern_hemisphere_df[\"Lat\"],southern_hemisphere_df [\"Max Temp\"])\n",
    "regress_values = (southern_hemisphere_df[\"Lat\"]) * slope + intercept\n",
    "\n",
    "line_eq = \"y = \" + str(round(slope,2)) + \"x\" + \"+\" + str(round(intercept,2))\n",
    "plt.scatter(southern_hemisphere_df[\"Lat\"],southern_hemisphere_df [\"Max Temp\"])\n",
    "plt.plot(southern_hemisphere_df[\"Lat\"],regress_values,\"b-\")\n",
    "plt.annotate(line_eq,(0,0),fontsize=15,color=\"red\")\n",
    "plt.title(\"Southern Hemisphere - Max Temp vs Latitude\")\n",
    "plt.xlabel('Lat')\n",
    "plt.ylabel('Max Temp (f)')\n",
    "plt.show()\n"
   ]
  },
  {
   "cell_type": "markdown",
   "metadata": {},
   "source": [
    "####  Northern Hemisphere - Humidity (%) vs. Latitude Linear Regression"
   ]
  },
  {
   "cell_type": "code",
   "execution_count": 179,
   "metadata": {},
   "outputs": [
    {
     "data": {
      "image/png": "[encoded data removed]",
      "text/plain": [
       "<Figure size 432x288 with 1 Axes>"
      ]
     },
     "metadata": {
      "needs_background": "light"
     },
     "output_type": "display_data"
    }
   ],
   "source": [
    "plt.scatter(northern_hemisphere_df[\"Lat\"], northern_hemisphere_df[\"Humidity\"], alpha = 0.5)\n",
    "\n",
    "(slope, intercept, rvalue, pvalue, stderr) = st.linregress(northern_hemisphere_df[\"Lat\"],northern_hemisphere_df [\"Humidity\"])\n",
    "regress_values = (northern_hemisphere_df[\"Lat\"]) * slope + intercept\n",
    "\n",
    "line_eq = \"y = \" + str(round(slope,2)) + \"x\" + \"+\" + str(round(intercept,2))\n",
    "plt.scatter(northern_hemisphere_df[\"Lat\"],northern_hemisphere_df [\"Humidity\"])\n",
    "plt.plot(northern_hemisphere_df[\"Lat\"],regress_values,\"b-\")\n",
    "plt.annotate(line_eq,(20,25),fontsize=15,color=\"red\")\n",
    "plt.title(\"Nothern Hemisphere - Humidity vs Latitude\")\n",
    "plt.xlabel('Lat')\n",
    "plt.ylabel('Humidity')\n",
    "plt.show()\n"
   ]
  },
  {
   "cell_type": "markdown",
   "metadata": {},
   "source": [
    "####  Southern Hemisphere - Humidity (%) vs. Latitude Linear Regression"
   ]
  },
  {
   "cell_type": "code",
   "execution_count": null,
   "metadata": {},
   "outputs": [],
   "source": [
    "plt.scatter(southern_hemisphere_df[\"Lat\"], southern_hemisphere_df[\"Humidity\"], alpha = 0.5)\n",
    "\n",
    "(slope, intercept, rvalue, pvalue, stderr) = st.linregress(southern_hemisphere_df[\"Lat\"],southern_hemisphere_df [\"Humidity\"])\n",
    "regress_values = (southern_hemisphere_df[\"Lat\"]) * slope + intercept\n",
    "\n",
    "line_eq = \"y = \" + str(round(slope,2)) + \"x\" + \"+\" + str(round(intercept,2))\n",
    "plt.scatter(southern_hemisphere_df[\"Lat\"],southern_hemisphere_df [\"Humidity\"])\n",
    "plt.plot(southern_hemisphere_df[\"Lat\"],regress_values,\"b-\")\n",
    "plt.annotate(line_eq,(20,25),fontsize=15,color=\"red\")\n",
    "plt.title(\"Southern Hemisphere - Humidity vs Latitude\")\n",
    "plt.xlabel('Lat')\n",
    "plt.ylabel('Humidity')\n",
    "plt.show()\n"
   ]
  },
  {
   "cell_type": "markdown",
   "metadata": {},
   "source": [
    "####  Northern Hemisphere - Cloudiness (%) vs. Latitude Linear Regression"
   ]
  },
  {
   "cell_type": "code",
   "execution_count": 169,
   "metadata": {},
   "outputs": [
    {
     "data": {
      "image/png": "[encoded data removed]",
      "text/plain": [
       "<Figure size 432x288 with 1 Axes>"
      ]
     },
     "metadata": {
      "needs_background": "light"
     },
     "output_type": "display_data"
    }
   ],
   "source": [
    "plt.scatter(northern_hemisphere_df[\"Lat\"], northern_hemisphere_df[\"Cloudiness\"], alpha = 0.5)\n",
    "\n",
    "(slope, intercept, rvalue, pvalue, stderr) = st.linregress(northern_hemisphere_df[\"Lat\"],northern_hemisphere_df [\"Cloudiness\"])\n",
    "regress_values = (northern_hemisphere_df[\"Lat\"]) * slope + intercept\n",
    "\n",
    "line_eq = \"y = \" + str(round(slope,2)) + \"x\" + \"+\" + str(round(intercept,2))\n",
    "plt.scatter(northern_hemisphere_df[\"Lat\"],northern_hemisphere_df [\"Cloudiness\"])\n",
    "plt.plot(northern_hemisphere_df[\"Lat\"],regress_values,\"b-\")\n",
    "plt.annotate(line_eq,(0,0),fontsize=15,color=\"red\")\n",
    "plt.title(\"Nothern Hemisphere - Cloudiness vs Latitude\")\n",
    "plt.xlabel('Lat')\n",
    "plt.ylabel('Cloudiness')\n",
    "plt.show()\n"
   ]
  },
  {
   "cell_type": "markdown",
   "metadata": {},
   "source": [
    "####  Southern Hemisphere - Cloudiness (%) vs. Latitude Linear Regression"
   ]
  },
  {
   "cell_type": "code",
   "execution_count": null,
   "metadata": {},
   "outputs": [],
   "source": [
    "plt.scatter(southern_hemisphere_df[\"Lat\"], southern_hemisphere_df[\"Cloudiness\"], alpha = 0.5)\n",
    "\n",
    "(slope, intercept, rvalue, pvalue, stderr) = st.linregress(southern_hemisphere_df[\"Lat\"],southern_hemisphere_df [\"Cloudiness\"])\n",
    "regress_values = (southern_hemisphere_df[\"Lat\"]) * slope + intercept\n",
    "\n",
    "line_eq = \"y = \" + str(round(slope,2)) + \"x\" + \"+\" + str(round(intercept,2))\n",
    "plt.scatter(southern_hemisphere_df[\"Lat\"],southern_hemisphere_df [\"Cloudiness\"])\n",
    "plt.plot(southern_hemisphere_df[\"Lat\"],regress_values,\"b-\")\n",
    "plt.annotate(line_eq,(0,0),fontsize=15,color=\"red\")\n",
    "plt.title(\"Southern Hemisphere - Cloudiness vs Latitude\")\n",
    "plt.xlabel('Lat')\n",
    "plt.ylabel('Cloudiness')\n",
    "plt.show()\n"
   ]
  },
  {
   "cell_type": "markdown",
   "metadata": {},
   "source": [
    "####  Northern Hemisphere - Wind Speed (mph) vs. Latitude Linear Regression"
   ]
  },
  {
   "cell_type": "code",
   "execution_count": 174,
   "metadata": {},
   "outputs": [
    {
     "data": {
      "image/png": "[encoded data removed]",
      "text/plain": [
       "<Figure size 432x288 with 1 Axes>"
      ]
     },
     "metadata": {
      "needs_background": "light"
     },
     "output_type": "display_data"
    }
   ],
   "source": [
    "plt.scatter(northern_hemisphere_df[\"Lat\"], northern_hemisphere_df[\"Wind Speed\"], alpha = 0.5)\n",
    "\n",
    "(slope, intercept, rvalue, pvalue, stderr) = st.linregress(northern_hemisphere_df[\"Lat\"],northern_hemisphere_df [\"Wind Speed\"])\n",
    "regress_values = (northern_hemisphere_df[\"Lat\"]) * slope + intercept\n",
    "\n",
    "line_eq = \"y = \" + str(round(slope,2)) + \"x\" + \"+\" + str(round(intercept,2))\n",
    "plt.scatter(northern_hemisphere_df[\"Lat\"],northern_hemisphere_df [\"Wind Speed\"])\n",
    "plt.plot(northern_hemisphere_df[\"Lat\"],regress_values,\"b-\")\n",
    "plt.annotate(line_eq,(0,0),fontsize=15,color=\"red\")\n",
    "plt.title(\"Nothern Hemisphere - Wind Speed vs Latitude\")\n",
    "plt.xlabel('Lat')\n",
    "plt.ylabel('Wind Speed')\n",
    "plt.show()"
   ]
  },
  {
   "cell_type": "markdown",
   "metadata": {},
   "source": [
    "####  Southern Hemisphere - Wind Speed (mph) vs. Latitude Linear Regression"
   ]
  },
  {
   "cell_type": "code",
   "execution_count": null,
   "metadata": {},
   "outputs": [],
   "source": [
    "plt.scatter(southern_hemisphere_df[\"Lat\"], southern_hemisphere_df[\"Wind Speed\"], alpha = 0.5)\n",
    "\n",
    "(slope, intercept, rvalue, pvalue, stderr) = st.linregress(southern_hemisphere_df[\"Lat\"],southern_hemisphere_df [\"Wind Speed\"])\n",
    "regress_values = (southern_hemisphere_df[\"Lat\"]) * slope + intercept\n",
    "\n",
    "line_eq = \"y = \" + str(round(slope,2)) + \"x\" + \"+\" + str(round(intercept,2))\n",
    "plt.scatter(southern_hemisphere_df[\"Lat\"],southern_hemisphere_df [\"Wind Speed\"])\n",
    "plt.plot(southern_hemisphere_df[\"Lat\"],regress_values,\"b-\")\n",
    "plt.annotate(line_eq,(0,0),fontsize=15,color=\"red\")\n",
    "plt.title(\"Southern Hemisphere - Wind Speed vs Latitude\")\n",
    "plt.xlabel('Lat')\n",
    "plt.ylabel('Wind Speed')\n",
    "plt.show()"
   ]
  },
  {
   "cell_type": "code",
   "execution_count": null,
   "metadata": {},
   "outputs": [],
   "source": []
  }
 ],
 "metadata": {
  "anaconda-cloud": {},
  "kernel_info": {
   "name": "python3"
  },
  "kernelspec": {
   "display_name": "Python 3",
   "language": "python",
   "name": "python3"
  },
  "language_info": {
   "codemirror_mode": {
    "name": "ipython",
    "version": 3
   },
   "file_extension": ".py",
   "mimetype": "text/x-python",
   "name": "python",
   "nbconvert_exporter": "python",
   "pygments_lexer": "ipython3",
   "version": "3.6.10"
  },
  "latex_envs": {
   "LaTeX_envs_menu_present": true,
   "autoclose": false,
   "autocomplete": true,
   "bibliofile": "biblio.bib",
   "cite_by": "apalike",
   "current_citInitial": 1,
   "eqLabelWithNumbers": true,
   "eqNumInitial": 1,
   "hotkeys": {
    "equation": "Ctrl-E",
    "itemize": "Ctrl-I"
   },
   "labels_anchors": false,
   "latex_user_defs": false,
   "report_style_numbering": false,
   "user_envs_cfg": false
  },
  "nteract": {
   "version": "0.12.3"
  }
 },
 "nbformat": 4,
 "nbformat_minor": 4
}
