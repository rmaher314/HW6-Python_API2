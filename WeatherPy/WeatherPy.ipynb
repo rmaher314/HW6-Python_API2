{
 "cells": [
  {
   "cell_type": "markdown",
   "metadata": {},
   "source": [
    "# WeatherPy\n",
    "----\n",
    "\n",
    "#### Note\n",
    "* Instructions have been included for each segment. You do not have to follow them exactly, but they are included to help you think through the steps."
   ]
  },
  {
   "cell_type": "code",
   "execution_count": 58,
   "metadata": {
    "scrolled": true
   },
   "outputs": [],
   "source": [
    "#Dependencies\n",
    "import requests\n",
    "import json\n",
    "from api_keys import api_key\n",
    "import matplotlib.pyplot as plt\n",
    "import numpy as np\n",
    "import pandas as pd\n",
    "from pprint import pprint\n",
    "import random\n",
    "from citipy import citipy\n"
   ]
  },
  {
   "cell_type": "code",
   "execution_count": 59,
   "metadata": {},
   "outputs": [],
   "source": [
    "#Urls and API Keys\n",
    "url = \"http://api.openweathermap.org/data/2.5/weather?\"\n",
    "#query_url = f\"{url}appid={api_key}&units={units}&q=\"\n",
    "#query_url = url + \"appid=\" + api_key + \"&q={name}\"\n",
    "query_url = url + \"appid=\" + api_key + \"&q=houston\" + \"&units=imperial\""
   ]
  },
  {
   "cell_type": "code",
   "execution_count": 60,
   "metadata": {},
   "outputs": [
    {
     "name": "stdout",
     "output_type": "stream",
     "text": [
      "{'base': 'stations',\n",
      " 'clouds': {'all': 1},\n",
      " 'cod': 200,\n",
      " 'coord': {'lat': 29.76, 'lon': -95.36},\n",
      " 'dt': 1599840116,\n",
      " 'id': 4699066,\n",
      " 'main': {'feels_like': 85.12,\n",
      "          'humidity': 78,\n",
      "          'pressure': 1018,\n",
      "          'temp': 78.96,\n",
      "          'temp_max': 81,\n",
      "          'temp_min': 77},\n",
      " 'name': 'Houston',\n",
      " 'sys': {'country': 'US',\n",
      "         'id': 2006306,\n",
      "         'sunrise': 1599825862,\n",
      "         'sunset': 1599870701,\n",
      "         'type': 3},\n",
      " 'timezone': -18000,\n",
      " 'visibility': 10000,\n",
      " 'weather': [{'description': 'clear sky',\n",
      "              'icon': '01d',\n",
      "              'id': 800,\n",
      "              'main': 'Clear'}],\n",
      " 'wind': {'deg': 15, 'gust': 11.99, 'speed': 4}}\n"
     ]
    }
   ],
   "source": [
    "weather_response = requests.get(query_url)\n",
    "weather_json = weather_response.json()\n",
    "    \n",
    "#print(query_url)\n",
    "pprint(weather_json)"
   ]
  },
  {
   "cell_type": "markdown",
   "metadata": {},
   "source": [
    "## Generate Cities List"
   ]
  },
  {
   "cell_type": "code",
   "execution_count": 61,
   "metadata": {},
   "outputs": [
    {
     "name": "stdout",
     "output_type": "stream",
     "text": [
      "[(5.717182034340508, 47.978090063761286), (7.58534105995777, 59.375520174063354), (19.03280011152651, 5.174544965743106), (6.7050880253745335, 8.988764714764134), (42.519375139866696, 7.657235521604612), (16.166231495671564, 0.708430753713748), (47.50014239736558, 65.02467624468014), (51.02290179177605, 28.724120948257703), (42.76896836695832, 65.70249876053192), (3.6343414648157504, 18.378327425207253)]\n"
     ]
    }
   ],
   "source": [
    "#generating coordinates\n",
    "coordinates = [(random.random()*70.0, random.random()*70.0) for _ in range(10)]\n",
    "#coord_df = pd.DataFrame(coordinates)\n",
    "#coordinates_df= coord_df.rename(columns={\"0\":\"Latitude\", \"1\":\"Longitude\"})\n",
    "#coordinates_df\n",
    "print(coordinates)"
   ]
  },
  {
   "cell_type": "code",
   "execution_count": 62,
   "metadata": {},
   "outputs": [
    {
     "name": "stdout",
     "output_type": "stream",
     "text": [
      "[<citipy.citipy.City object at 0x000001DE5D8D6B00>, <citipy.citipy.City object at 0x000001DE5D8D2FD0>, <citipy.citipy.City object at 0x000001DE5D03D940>, <citipy.citipy.City object at 0x000001DE5D053EB8>, <citipy.citipy.City object at 0x000001DE5C6D3F28>, <citipy.citipy.City object at 0x000001DE5CEED6D8>, <citipy.citipy.City object at 0x000001DE5CE76860>, <citipy.citipy.City object at 0x000001DE5D9A2908>, <citipy.citipy.City object at 0x000001DE5CE7F128>, <citipy.citipy.City object at 0x000001DE5C33C860>]\n"
     ]
    }
   ],
   "source": [
    "cities = []\n",
    "for coordinate_pair in coordinates:\n",
    "    lat, lon = coordinate_pair\n",
    "    cities.append(citipy.nearest_city(lat, lon))\n",
    "print(cities)\n"
   ]
  },
  {
   "cell_type": "code",
   "execution_count": 71,
   "metadata": {},
   "outputs": [
    {
     "name": "stdout",
     "output_type": "stream",
     "text": [
      "1\n"
     ]
    }
   ],
   "source": [
    "#All individual variables are reading the json response api\n",
    "#pressure = []\n",
    "#lon = []\n",
    "#lat = []\n",
    "#cloud = []\n",
    "#wind = []\n",
    "#temp = []\n",
    "\n",
    "#for city in cities:\n",
    "    #response = requests.get(query_url + city).json()\n",
    "response = weather_json\n",
    "temp = response['main']['temp']\n",
    "humidity = response['main']['humidity']\n",
    "cloud = response['clouds']['all']\n",
    "wind = response['wind']['speed']\n",
    "print(cloud)\n",
    "    #country_code = city.country_code\n",
    "    #name = city.city_name\n",
    "    #lon = lon.append(response['coord']['lon'])\n",
    "    #lat = lat.append(response['coord']['lat'])\n",
    "    #humidity = pressure.append(response['main']['humidity'])\n",
    "    #cloud = cloudiness.append(response['clouds']['all'])\n",
    "    #print(f\"The country code of {name} is '{country_code}'.\")"
   ]
  },
  {
   "cell_type": "code",
   "execution_count": 55,
   "metadata": {},
   "outputs": [
    {
     "name": "stdout",
     "output_type": "stream",
     "text": [
      "http://api.openweathermap.org/data/2.5/weather?appid=7c4771abcb70b01219028af6a29a7dfd&units=imperial&q=gao\n",
      "http://api.openweathermap.org/data/2.5/weather?appid=7c4771abcb70b01219028af6a29a7dfd&units=imperial&q=am timan\n",
      "http://api.openweathermap.org/data/2.5/weather?appid=7c4771abcb70b01219028af6a29a7dfd&units=imperial&q=wolsztyn\n",
      "http://api.openweathermap.org/data/2.5/weather?appid=7c4771abcb70b01219028af6a29a7dfd&units=imperial&q=raudeberg\n",
      "http://api.openweathermap.org/data/2.5/weather?appid=7c4771abcb70b01219028af6a29a7dfd&units=imperial&q=sadovoye\n",
      "http://api.openweathermap.org/data/2.5/weather?appid=7c4771abcb70b01219028af6a29a7dfd&units=imperial&q=keuruu\n",
      "http://api.openweathermap.org/data/2.5/weather?appid=7c4771abcb70b01219028af6a29a7dfd&units=imperial&q=salalah\n",
      "http://api.openweathermap.org/data/2.5/weather?appid=7c4771abcb70b01219028af6a29a7dfd&units=imperial&q=veraval\n",
      "http://api.openweathermap.org/data/2.5/weather?appid=7c4771abcb70b01219028af6a29a7dfd&units=imperial&q=raudeberg\n",
      "http://api.openweathermap.org/data/2.5/weather?appid=7c4771abcb70b01219028af6a29a7dfd&units=imperial&q=mbini\n"
     ]
    }
   ],
   "source": [
    "url = \"http://api.openweathermap.org/data/2.5/weather?\"\n",
    "query_url = url + \"appid=\" + api_key +  \"&units=imperial\" +\"&q=\"\n",
    "\n",
    "for city in cities:\n",
    "    #country_code = city.country_code\n",
    "    name = city.city_name\n",
    "    \n",
    "    request_url = query_url + name\n",
    "    print(request_url)\n",
    "    \n",
    "    response = requests.get(query_url + city).json()\n",
    "    #print(f\"The country code of {name} is '{country_code}'.\")\n",
    "    #weather_response = requests.get(query_url)\n",
    "    #weather_json = weather_response.json()\n",
    "    #pprint(weather_json)\n"
   ]
  },
  {
   "cell_type": "markdown",
   "metadata": {},
   "source": [
    "### Perform API Calls\n",
    "* Perform a weather check on each city using a series of successive API calls.\n",
    "* Include a print log of each city as it'sbeing processed (with the city number and city name).\n"
   ]
  },
  {
   "cell_type": "code",
   "execution_count": null,
   "metadata": {
    "scrolled": true
   },
   "outputs": [],
   "source": []
  },
  {
   "cell_type": "markdown",
   "metadata": {},
   "source": [
    "### Convert Raw Data to DataFrame\n",
    "* Export the city data into a .csv.\n",
    "* Display the DataFrame"
   ]
  },
  {
   "cell_type": "code",
   "execution_count": null,
   "metadata": {},
   "outputs": [],
   "source": []
  },
  {
   "cell_type": "code",
   "execution_count": null,
   "metadata": {},
   "outputs": [],
   "source": []
  },
  {
   "cell_type": "markdown",
   "metadata": {},
   "source": [
    "## Inspect the data and remove the cities where the humidity > 100%.\n",
    "----\n",
    "Skip this step if there are no cities that have humidity > 100%. "
   ]
  },
  {
   "cell_type": "code",
   "execution_count": null,
   "metadata": {},
   "outputs": [],
   "source": []
  },
  {
   "cell_type": "code",
   "execution_count": 4,
   "metadata": {},
   "outputs": [],
   "source": [
    "#  Get the indices of cities that have humidity over 100%.\n"
   ]
  },
  {
   "cell_type": "code",
   "execution_count": 5,
   "metadata": {},
   "outputs": [],
   "source": [
    "# Make a new DataFrame equal to the city data to drop all humidity outliers by index.\n",
    "# Passing \"inplace=False\" will make a copy of the city_data DataFrame, which we call \"clean_city_data\".\n"
   ]
  },
  {
   "cell_type": "code",
   "execution_count": null,
   "metadata": {},
   "outputs": [],
   "source": [
    "\n"
   ]
  },
  {
   "cell_type": "markdown",
   "metadata": {},
   "source": [
    "## Plotting the Data\n",
    "* Use proper labeling of the plots using plot titles (including date of analysis) and axes labels.\n",
    "* Save the plotted figures as .pngs."
   ]
  },
  {
   "cell_type": "markdown",
   "metadata": {},
   "source": [
    "## Latitude vs. Temperature Plot"
   ]
  },
  {
   "cell_type": "code",
   "execution_count": null,
   "metadata": {
    "scrolled": true
   },
   "outputs": [],
   "source": []
  },
  {
   "cell_type": "markdown",
   "metadata": {},
   "source": [
    "## Latitude vs. Humidity Plot"
   ]
  },
  {
   "cell_type": "code",
   "execution_count": null,
   "metadata": {},
   "outputs": [],
   "source": []
  },
  {
   "cell_type": "markdown",
   "metadata": {},
   "source": [
    "## Latitude vs. Cloudiness Plot"
   ]
  },
  {
   "cell_type": "code",
   "execution_count": null,
   "metadata": {},
   "outputs": [],
   "source": []
  },
  {
   "cell_type": "markdown",
   "metadata": {},
   "source": [
    "## Latitude vs. Wind Speed Plot"
   ]
  },
  {
   "cell_type": "code",
   "execution_count": null,
   "metadata": {},
   "outputs": [],
   "source": []
  },
  {
   "cell_type": "markdown",
   "metadata": {},
   "source": [
    "## Linear Regression"
   ]
  },
  {
   "cell_type": "code",
   "execution_count": null,
   "metadata": {},
   "outputs": [],
   "source": []
  },
  {
   "cell_type": "markdown",
   "metadata": {},
   "source": [
    "####  Northern Hemisphere - Max Temp vs. Latitude Linear Regression"
   ]
  },
  {
   "cell_type": "code",
   "execution_count": null,
   "metadata": {},
   "outputs": [],
   "source": []
  },
  {
   "cell_type": "markdown",
   "metadata": {},
   "source": [
    "####  Southern Hemisphere - Max Temp vs. Latitude Linear Regression"
   ]
  },
  {
   "cell_type": "code",
   "execution_count": null,
   "metadata": {},
   "outputs": [],
   "source": []
  },
  {
   "cell_type": "markdown",
   "metadata": {},
   "source": [
    "####  Northern Hemisphere - Humidity (%) vs. Latitude Linear Regression"
   ]
  },
  {
   "cell_type": "code",
   "execution_count": null,
   "metadata": {},
   "outputs": [],
   "source": []
  },
  {
   "cell_type": "markdown",
   "metadata": {},
   "source": [
    "####  Southern Hemisphere - Humidity (%) vs. Latitude Linear Regression"
   ]
  },
  {
   "cell_type": "code",
   "execution_count": null,
   "metadata": {},
   "outputs": [],
   "source": []
  },
  {
   "cell_type": "markdown",
   "metadata": {},
   "source": [
    "####  Northern Hemisphere - Cloudiness (%) vs. Latitude Linear Regression"
   ]
  },
  {
   "cell_type": "code",
   "execution_count": null,
   "metadata": {},
   "outputs": [],
   "source": []
  },
  {
   "cell_type": "markdown",
   "metadata": {},
   "source": [
    "####  Southern Hemisphere - Cloudiness (%) vs. Latitude Linear Regression"
   ]
  },
  {
   "cell_type": "code",
   "execution_count": null,
   "metadata": {},
   "outputs": [],
   "source": []
  },
  {
   "cell_type": "markdown",
   "metadata": {},
   "source": [
    "####  Northern Hemisphere - Wind Speed (mph) vs. Latitude Linear Regression"
   ]
  },
  {
   "cell_type": "code",
   "execution_count": null,
   "metadata": {},
   "outputs": [],
   "source": []
  },
  {
   "cell_type": "markdown",
   "metadata": {},
   "source": [
    "####  Southern Hemisphere - Wind Speed (mph) vs. Latitude Linear Regression"
   ]
  },
  {
   "cell_type": "code",
   "execution_count": null,
   "metadata": {},
   "outputs": [],
   "source": []
  },
  {
   "cell_type": "code",
   "execution_count": null,
   "metadata": {},
   "outputs": [],
   "source": []
  }
 ],
 "metadata": {
  "anaconda-cloud": {},
  "kernel_info": {
   "name": "python3"
  },
  "kernelspec": {
   "display_name": "Python 3",
   "language": "python",
   "name": "python3"
  },
  "language_info": {
   "codemirror_mode": {
    "name": "ipython",
    "version": 3
   },
   "file_extension": ".py",
   "mimetype": "text/x-python",
   "name": "python",
   "nbconvert_exporter": "python",
   "pygments_lexer": "ipython3",
   "version": "3.6.10"
  },
  "latex_envs": {
   "LaTeX_envs_menu_present": true,
   "autoclose": false,
   "autocomplete": true,
   "bibliofile": "biblio.bib",
   "cite_by": "apalike",
   "current_citInitial": 1,
   "eqLabelWithNumbers": true,
   "eqNumInitial": 1,
   "hotkeys": {
    "equation": "Ctrl-E",
    "itemize": "Ctrl-I"
   },
   "labels_anchors": false,
   "latex_user_defs": false,
   "report_style_numbering": false,
   "user_envs_cfg": false
  },
  "nteract": {
   "version": "0.12.3"
  }
 },
 "nbformat": 4,
 "nbformat_minor": 4
}
